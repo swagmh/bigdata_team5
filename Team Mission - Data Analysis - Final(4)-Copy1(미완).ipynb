{
 "cells": [
  {
   "cell_type": "markdown",
   "metadata": {},
   "source": [
    "## 국민청원 크롤링하기"
   ]
  },
  {
   "cell_type": "code",
   "execution_count": 1,
   "metadata": {},
   "outputs": [],
   "source": [
    "from bs4 import BeautifulSoup \n",
    "from urllib.request import urlopen\n",
    "\n",
    "import pandas as pd\n",
    "import re\n",
    "import time\n",
    "\n",
    "from datetime import datetime, timedelta\n",
    "from selenium import webdriver"
   ]
  },
  {
   "cell_type": "markdown",
   "metadata": {},
   "source": [
    "#### 국민청원 분야별 게시판 주소\n",
    "- 외교/통일/국방 : 36\n",
    "- 일자리 : 37\n",
    "- 인권/성평등 : 49"
   ]
  },
  {
   "cell_type": "code",
   "execution_count": 2,
   "metadata": {},
   "outputs": [
    {
     "name": "stdout",
     "output_type": "stream",
     "text": [
      "크롤링할 청원 분야를 입력하세요.\n",
      "- 일교/통일/국방 : 36 \n",
      "- 일자리 : 37 \n",
      "- 인권/성평등 : 49 \n",
      "36\n"
     ]
    }
   ],
   "source": [
    "urls = []\n",
    "url = input(\"크롤링할 청원 분야를 입력하세요.\\n- 일교/통일/국방 : 36 \\n- 일자리 : 37 \\n- 인권/성평등 : 49 \\n\")\n",
    "for x in range(1, 1000):\n",
    "    urls.append('https://www1.president.go.kr/petitions/category?c=%s&only=2&page=%d&order=1' % (url, x))"
   ]
  },
  {
   "cell_type": "code",
   "execution_count": 3,
   "metadata": {},
   "outputs": [
    {
     "data": {
      "text/plain": [
       "999"
      ]
     },
     "execution_count": 3,
     "metadata": {},
     "output_type": "execute_result"
    }
   ],
   "source": [
    "len(urls)"
   ]
  },
  {
   "cell_type": "code",
   "execution_count": 4,
   "metadata": {},
   "outputs": [
    {
     "data": {
      "text/plain": [
       "'https://www1.president.go.kr/petitions/category?c=36&only=2&page=1&order=1'"
      ]
     },
     "execution_count": 4,
     "metadata": {},
     "output_type": "execute_result"
    }
   ],
   "source": [
    "urls[0]"
   ]
  },
  {
   "cell_type": "markdown",
   "metadata": {},
   "source": [
    "### 하나의 페이지 테스트"
   ]
  },
  {
   "cell_type": "code",
   "execution_count": 5,
   "metadata": {},
   "outputs": [],
   "source": [
    "driver_path = \"driver/chromedriver.exe\"\n",
    "driver = webdriver.Chrome(executable_path=driver_path)\n",
    "driver.get(urls[0])\n",
    "data = BeautifulSoup(driver.page_source, \"lxml\")"
   ]
  },
  {
   "cell_type": "code",
   "execution_count": 6,
   "metadata": {},
   "outputs": [
    {
     "data": {
      "text/plain": [
       "<!DOCTYPE html>\n",
       "<html class=\" js csstransitions\" lang=\"ko\" style=\"height: auto;\" xmlns=\"http://www.w3.org/1999/xhtml\"><head>\n",
       "<meta charset=\"utf-8\"/>\n",
       "<meta content=\"IE=edge, chrome=1\" http-equiv=\"X-UA-Compatible\"/>\n",
       "<meta content=\"width=device-width,initial-scale=1.0,minimum-scale=1.0,maximum-scale=1.0\" name=\"viewport\"/>\n",
       "<meta content=\"#082e59\" name=\"theme-color\"/>\n",
       "<meta content=\"나라를 나라답게, 국민과 함께 갑니다.\" name=\"description\"/>\n",
       "<meta content=\"청와대, 대통령비서실, 대통령, 한국, 대한민국, 대한민국 정부, president.go.kr, 靑瓦臺, 19대, 문재인\" name=\"keywords\"/>\n",
       "<meta content=\"청와대 (CHEONGWADAE)\" name=\"author\"/>\n",
       "<meta content=\"telephone=no\" name=\"format-detection\"/>\n",
       "<meta content=\"website\" property=\"og:type\"/>\n",
       "<meta content=\"분야별 국민청원 및 제안 목록 페이지 1\" property=\"og:title\"/>\n",
       "<meta content=\"http://www.president.go.kr/\" property=\"og:url\"/>\n",
       "<meta content=\"분야별 국민청원 및 제안 목록 페이지 1\" property=\"og:site_name\"/>\n",
       "<meta content=\"나라를 나라답게, 국민과 함께 갑니다.\" property=\"og:description\"/>\n",
       "<meta content=\"http://president.go.kr/css/favicon_400x210.png\" property=\"og:image\"/>\n",
       "<meta content=\" http://www.president.go.kr/\" name=\"twitter:url\"/>\n",
       "<meta content=\"나라를 나라답게, 국민과 함께 갑니다.\" name=\"twitter:description\"/>\n",
       "<meta content=\"http://president.go.kr/css/favicon_400x210.png\" name=\"twitter:image\"/>\n",
       "<title>분야별 국민청원 및 제안 목록 페이지 1</title>\n",
       "<link href=\"http://president.go.kr/css/favicon.ico\" rel=\"shortcut icon\"/>\n",
       "<link href=\"http://president.go.kr/css/favicon.png\" rel=\"icon\"/>\n",
       "<link href=\"http://president.go.kr/css/favicon.png\" rel=\"apple-touch-icon\"/>\n",
       "<link href=\"/css/init.css\" rel=\"stylesheet\"/>\n",
       "<link href=\"/css/common.css\" rel=\"stylesheet\"/>\n",
       "<link href=\"/css/layout.css?v=20170901\" rel=\"stylesheet\"/>\n",
       "<link href=\"/css/jquery.mCustomScrollbar.css\" rel=\"stylesheet\"/>\n",
       "<!-- <link rel=\"stylesheet\" href=\"/css/flexslider.css\"> -->\n",
       "<link href=\"/css/animate.min.css\" rel=\"stylesheet\"/>\n",
       "<link href=\"/css/board.css\" rel=\"stylesheet\"/>\n",
       "<link href=\"/css/header.css?ver=20171215\" rel=\"stylesheet\"/>\n",
       "<link href=\"/css/main.css\" rel=\"stylesheet\"/>\n",
       "<link href=\"/css/jquery-ui.min.css\" rel=\"stylesheet\"/>\n",
       "<link href=\"/css/sub_petition_category.css\" rel=\"stylesheet\" type=\"text/css\"/>\n",
       "<style type=\"text/css\">\n",
       "</style>\n",
       "<script async=\"\" src=\"https://www.google-analytics.com/analytics.js\" type=\"text/javascript\"></script><script src=\"/js/html5.js\"></script>\n",
       "<script src=\"/js/jquery-1.11.0.min.js\"></script>\n",
       "<script src=\"/js/jquery.form.min.js\"></script>\n",
       "<script src=\"/js/navigation.js\"></script>\n",
       "<script src=\"/js/jquery.validate.min.js\"></script>\n",
       "<script src=\"/js/jquery.mCustomScrollbar.js\"></script><script src=\"https://cdnjs.cloudflare.com/ajax/libs/jquery-mousewheel/3.1.13/jquery.mousewheel.min.js\"></script>\n",
       "<!-- <script src=\"/js/jquery.flexslider-min.js\"></script> -->\n",
       "<script src=\"/js/jquery.appear.js\"></script>\n",
       "<script src=\"/js/SmoothScroll.js\"></script>\n",
       "<script src=\"/js/moment.min.js\"></script>\n",
       "<script src=\"/js/handlebars-v4.0.10.js\"></script>\n",
       "<script src=\"/js/jquery-ui.min.js\"></script>\n",
       "<script src=\"/js/jquery.history.js\" type=\"text/javascript\"></script>\n",
       "<script>\n",
       "$(document).ready(function () {\n",
       "\t\n",
       "\n",
       "\t\n",
       "\tvar webNavi = $('#webNavi').superfish({\n",
       "\t});\n",
       "});\n",
       "</script>\n",
       "</head>\n",
       "<body style=\"\">\n",
       "<div id=\"accessibility\">\n",
       "<strong class=\"blind\">컨텐츠바로가기</strong>\n",
       "<ul>\n",
       "<li><a href=\"#cont_view\"><strong>본문으로 바로가기</strong></a></li>\n",
       "<li><a href=\"#sitemap\"><strong>하단메뉴 바로가기</strong></a></li>\n",
       "</ul>\n",
       "</div>\n",
       "<div id=\"wrap\">\n",
       "<div class=\"head_navi\">\n",
       "<h1 style=\"\"><div class=\"sound_only\">로고 배경이미지</div></h1>\n",
       "<div class=\"navigator_menu\" style=\"\">\n",
       "<ul class=\"menu sf-js-enabled sf-arrows\" id=\"webNavi\" style=\"touch-action: pan-y;\">\n",
       "<li class=\"menu_list ml0 main_logo\"><a href=\"/\" title=\"메인페이지로 이동\"><img alt=\"청와대 로고\" src=\"http://www.president.go.kr/cwdimg/main/logo.png\" style=\"width:100%;\"/></a></li>\n",
       "<li class=\"menu_list\">\n",
       "<a class=\"sf-with-ul\" href=\"/calendar\">문재인 대통령</a>\n",
       "<ul class=\"menu_sub\" style=\"display: none;\">\n",
       "<li><a href=\"/calendar\">공개일정</a></li>\n",
       "<li><a href=\"/president-journey\">걸어온길</a></li>\n",
       "<li><a href=\"/c/president-speeches\">대통령의 말과 글</a></li>\n",
       "<li><a href=\"/c/first-lady-quotations\">김정숙의 말과 글</a></li>\n",
       "</ul>\n",
       "</li>\n",
       "<li class=\"menu_list\">\n",
       "<a class=\"sf-with-ul\" href=\"/live-speeches\">청와대 뉴스룸</a>\n",
       "<ul class=\"menu_sub\" style=\"display: none;\">\n",
       "<li><a href=\"/live-speeches\">청와대 온에어</a></li>\n",
       "<li><a href=\"/c/briefings\">청와대 브리핑</a></li>\n",
       "<li><a href=\"/c/oversea-journals\">해외언론보도</a></li>\n",
       "<li><a href=\"/c/blue-house-stories\">청와대 이야기</a></li>\n",
       "<li><a href=\"/TodayShot\">오늘의 한 장</a></li>\n",
       "<li><a href=\"/econo_num\">숫자로 읽는 우리 경제</a></li>\n",
       "<li><a href=\"/history\">청와대 일기</a></li>\n",
       "</ul>\n",
       "</li>\n",
       "<li class=\"menu_list\">\n",
       "<a class=\"sf-with-ul\" href=\"/policies\">정책자료</a>\n",
       "<ul class=\"menu_sub\" style=\"display: none;\">\n",
       "<li><a href=\"/policies\">정책현안</a></li>\n",
       "<li><a href=\"http://www.korea.kr/policy/actuallyList.do?pWise=main&amp;pWiseMain=A25\" rel=\"noopener noreferrer\" target=\"_blank\" title=\"정책브리핑 새창열림\">정책브리핑</a></li>\n",
       "<li><a href=\"/government-projects\">국정과제</a></li>\n",
       "<li><a href=\"/GovReport2018\" style=\"line-height:20px;\">2018년 정부부처<br/>업무보고</a></li>\n",
       "<li><a href=\"/c/numerical-government\">숫자로 보는 정책</a></li>\n",
       "</ul>\n",
       "</li>\n",
       "<li class=\"menu_list\">\n",
       "<a class=\"sf-with-ul\" href=\"/event\" rel=\"noopener noreferrer\" target=\"_blank\" title=\"국민소통 광장 새창열림\">국민소통 광장</a>\n",
       "<ul class=\"menu_sub\" style=\"display: none;\">\n",
       "<li><a href=\"/event\" rel=\"noopener noreferrer\" target=\"_blank\" title=\"문재인 대통령 1주년 새창열림\">문재인 대통령 1주년</a></li>\n",
       "<li><a href=\"/Amendment\">국민 개헌안</a></li>\n",
       "<li><a href=\"/forums\">토론방</a></li>\n",
       "<li><a href=\"/petitions\">국민청원 및 제안</a></li>\n",
       "<li><a href=\"http://epeople.go.kr\" rel=\"noopener noreferrer\" target=\"_blank\" title=\"국민신문고 새창열림\">국민신문고</a></li>\n",
       "<li><a href=\"http://mybudget.go.kr\" rel=\"noopener noreferrer\" target=\"_blank\" title=\"국민참여예산 새창열림\">국민참여예산</a></li>\n",
       "<li><a href=\"https://www.hrdb.go.kr/OpenRecommend\" rel=\"noopener noreferrer\" target=\"_blank\" title=\"인재추천 새창열림\">인재추천</a></li>\n",
       "<li><a href=\"http://open.pss.go.kr\" rel=\"noopener noreferrer\" target=\"_blank\" title=\"효자동사진관 새창열림\">효자동사진관</a></li>\n",
       "</ul>\n",
       "</li>\n",
       "<li class=\"menu_list\">\n",
       "<a class=\"sf-with-ul\" href=\"/about/roi\">청와대 알림</a>\n",
       "<ul class=\"menu_sub\" style=\"display: none;\">\n",
       "<li><a href=\"/about/roi\">정보공개</a></li>\n",
       "<li><a href=\"/recruit/recruitment.php\">청와대 채용</a></li>\n",
       "<li><a href=\"https://dashboard.jobs.go.kr\" rel=\"noopener noreferrer\" target=\"_blank\" title=\"일자리 상황판 새창열림\">일자리 상황판</a></li>\n",
       "<li><a href=\"/about/organization\">청와대 조직도</a></li>\n",
       "<li><a href=\"/budgets\">세입·세출예산 운용상황</a></li>\n",
       "<li><a href=\"/Verification\" style=\"line-height:20px;\">고위공직 예비후보자<br/>사전 질문서</a></li>\n",
       "<li><a href=\"http://pa.go.kr/\" rel=\"noopener noreferrer\" target=\"_blank\" title=\"청와대 기록관 새창열림\">청와대 기록관</a></li>\n",
       "<li><a href=\"/about/location?where=desk\">오시는 길</a></li>\n",
       "</ul>\n",
       "</li>\n",
       "<li class=\"menu_list mr0\">\n",
       "<a href=\"/tours/about\">청와대 관람 신청</a>\n",
       "</li>\n",
       "<p class=\"main_search_icon\"><button class=\"search_icon\" id=\"trigger-overlay\" type=\"button\">검색창 열기</button></p>\n",
       "<div class=\"en_btn\">\n",
       "<a href=\"http://english.president.go.kr\" target=\"_blank\" title=\"영문페이지로 새창열림\">\n",
       "<span><img alt=\"\" src=\"http://www.president.go.kr/cwdimg/main/language_icon.gif\"/> English</span>\n",
       "</a>\n",
       "</div>\n",
       "</ul>\n",
       "<div class=\"overlay overlay-slidedown\">\n",
       "<button class=\"overlay-close\" type=\"button\">닫기</button>\n",
       "<div class=\"full_search\">\n",
       "<form action=\"/search\" method=\"post\">\n",
       "<fieldset>\n",
       "<ul class=\"full_search_btn\">\n",
       "<li class=\"search_box\">\n",
       "<label class=\"hide\" for=\"loginid\">검색창</label>\n",
       "<input id=\"loginid\" name=\"query\" placeholder=\"검색어를 입력해주세요.\" title=\"검색어입력\" type=\"text\" value=\"\"/>\n",
       "</li>\n",
       "<li class=\"search_btn\">\n",
       "<input type=\"submit\" value=\"검색\"/>\n",
       "</li>\n",
       "</ul>\n",
       "</fieldset>\n",
       "</form>\n",
       "</div>\n",
       "</div>\n",
       "<script src=\"/js/modernizr.custom.js\"></script>\n",
       "<script src=\"/js/classie.js\"></script>\n",
       "<script src=\"/js/search_btn.js\"></script>\n",
       "</div>\n",
       "</div>\n",
       "<header class=\"\" id=\"header\">\n",
       "<div class=\"navigator_menu\" style=\"display:none\"></div>\n",
       "<div class=\"h_logo\">\n",
       "<a href=\"/\" title=\"메인페이지로 이동\">\n",
       "<h1 class=\"blind\">대한민국 청와대</h1>\n",
       "</a>\n",
       "</div>\n",
       "<hr/>\n",
       "<div class=\"h_search\">\n",
       "<h2 class=\"blind\">통합검색</h2>\n",
       "<div class=\"hs_btn\">\n",
       "<button id=\"search_btn\" type=\"button\">\n",
       "<i><span class=\"sound_only\">통합검색</span></i>\n",
       "<span class=\"blind\">Search Btn</span>\n",
       "</button>\n",
       "</div>\n",
       "<div class=\"hs_wrap\">\n",
       "<script>\n",
       "\t\t\t\t$(document).ready(function () {\n",
       "\t\t\t\t\t$('#form-search').submit(function () {\n",
       "\t\t\t\t\t\tvar keyword = $(this).find('input[name=\"query\"]').val();\n",
       "\t\t\t\t\t\tvar regex = /^([a-zA-Z0-9가-힣 ]){2,}$/i;\n",
       "\t\t\t\t\t\tif (!regex.test(keyword)) {\n",
       "\t\t\t\t\t\t\talert('검색어는 한글, 영문 숫자를 2글자 이상으로 입력해주세요.');\n",
       "\t\t\t\t\t\t\treturn false;\n",
       "\t\t\t\t\t\t}\n",
       "\t\t\t\t\t\treturn true;\n",
       "\t\t\t\t\t});\n",
       "\t\t\t\t});\n",
       "\t\t\t</script>\n",
       "<form action=\"/search\" id=\"form-search\">\n",
       "<fieldset>\n",
       "<legend>통합검색폼</legend>\n",
       "<div class=\"hs_group\">\n",
       "<div class=\"hs_input\">\n",
       "<label class=\"blind\" for=\"hs_keyword\">검색어</label>\n",
       "<input id=\"hs_keyword\" name=\"query\" placeholder=\"검색어를 입력해주세요.\" required=\"\" type=\"text\"/>\n",
       "</div>\n",
       "<button class=\"hs_ok\" type=\"submit\">검색</button>\n",
       "</div>\n",
       "</fieldset>\n",
       "</form>\n",
       "</div>\n",
       "</div>\n",
       "<hr/>\n",
       "<div class=\"h_gnb\">\n",
       "<h2 class=\"blind\">메인메뉴</h2>\n",
       "<div class=\"hg_btn\">\n",
       "<h3>메뉴</h3>\n",
       "<button id=\"mainmenu_btn\" type=\"button\">\n",
       "<i><span class=\"sound_only\">메인메뉴</span></i>\n",
       "<span class=\"blind\">Menu Btn</span>\n",
       "</button>\n",
       "</div>\n",
       "<nav class=\"hg_wrap\">\n",
       "<ul class=\"depth1\">\n",
       "<li class=\"hg_president\">\n",
       "<button type=\"button\"><h3>문재인 대통령 <i><span class=\"sound_only\">문재인 대통령</span></i></h3></button>\n",
       "<ul class=\"depth2\">\n",
       "<li>\n",
       "<a href=\"/calendar\">공개일정</a>\n",
       "</li>\n",
       "<li>\n",
       "<a href=\"/president-journey\">걸어온길</a>\n",
       "</li>\n",
       "<li>\n",
       "<a href=\"/c/president-speeches\">대통령의 말과 글</a>\n",
       "</li>\n",
       "<li>\n",
       "<a href=\"/c/first-lady-quotations\">김정숙의 말과 글</a>\n",
       "</li>\n",
       "</ul>\n",
       "</li>\n",
       "<li class=\"hg_newsroom\">\n",
       "<button type=\"button\"><h3>청와대 뉴스룸 <i><span class=\"sound_only\">청와대 뉴스룸</span></i></h3></button>\n",
       "<ul class=\"depth2\">\n",
       "<li>\n",
       "<a href=\"/live-speeches\">청와대 온에어</a>\n",
       "</li>\n",
       "<li>\n",
       "<a href=\"/c/briefings\">청와대 브리핑</a>\n",
       "</li>\n",
       "<li>\n",
       "<a href=\"/c/oversea-journals\">해외언론보도</a>\n",
       "</li>\n",
       "<li>\n",
       "<a href=\"/c/blue-house-stories\">청와대 이야기</a>\n",
       "</li>\n",
       "<li>\n",
       "<a href=\"/TodayShot\">오늘의 한 장</a>\n",
       "</li>\n",
       "<li>\n",
       "<a href=\"/econo_num\">숫자로 읽는 우리 경제</a>\n",
       "</li>\n",
       "<li>\n",
       "<a href=\"/history\">청와대 일기</a>\n",
       "</li>\n",
       "</ul>\n",
       "</li>\n",
       "<li class=\"hg_policy\">\n",
       "<button type=\"button\"><h3>정책자료 <i><span class=\"sound_only\">정책자료</span></i></h3></button>\n",
       "<ul class=\"depth2\">\n",
       "<li>\n",
       "<a href=\"/policies\">정책현안</a>\n",
       "</li>\n",
       "<li>\n",
       "<a href=\"/government-projects\">국정과제</a>\n",
       "</li>\n",
       "<li><a href=\"/GovReport2018\" style=\"line-height:20px;\">2018년 정부부처<br/>업무보고</a></li>\n",
       "<li>\n",
       "<a href=\"/c/numerical-government\">숫자로 보는 정책</a>\n",
       "</li>\n",
       "</ul>\n",
       "</li>\n",
       "<li class=\"hg_community\">\n",
       "<button type=\"button\"><h3>국민소통 광장 <i><span class=\"sound_only\">국민소통 광장</span></i></h3></button>\n",
       "<ul class=\"depth2\">\n",
       "<li><a href=\"/event\" rel=\"noopener noreferrer\" target=\"_blank\" title=\"문재인 대통령 1주년 새창열림\">문재인 대통령 1주년</a></li>\n",
       "<li>\n",
       "<a href=\"/Amendment\">국민 개헌안</a>\n",
       "</li>\n",
       "<li>\n",
       "<a href=\"/forums\">토론방</a>\n",
       "</li>\n",
       "<li>\n",
       "<a href=\"/petitions\">국민청원 및 제안</a>\n",
       "</li>\n",
       "<li>\n",
       "<a href=\"http://epeople.go.kr\" rel=\"noopener noreferrer\" target=\"_blank\" title=\"국민신문고 새창열림\">국민신문고</a>\n",
       "</li>\n",
       "<li>\n",
       "<a href=\"http://mybudget.go.kr\" rel=\"noopener noreferrer\" target=\"_blank\" title=\"국민참여예산 새창열림\">국민참여예산</a>\n",
       "</li>\n",
       "<li>\n",
       "<a href=\"https://www.hrdb.go.kr/OpenRecommend\" rel=\"noopener noreferrer\" target=\"_blank\" title=\"인재추천 새창열림\">인재추천</a>\n",
       "</li>\n",
       "<li>\n",
       "<a href=\"http://open.pss.go.kr\" rel=\"noopener noreferrer\" target=\"_blank\" title=\"효자동사진관 새창열림\">효자동사진관</a>\n",
       "</li>\n",
       "</ul>\n",
       "</li>\n",
       "<li class=\"hg_cheongwadae\">\n",
       "<button type=\"button\"><h3>청와대 알림 <i><span class=\"sound_only\">청와대 알림</span></i></h3></button>\n",
       "<ul class=\"depth2 hei325\">\n",
       "<li>\n",
       "<a href=\"/about/roi\">정보공개</a>\n",
       "</li>\n",
       "<li><a href=\"/recruit/recruitment.php\">청와대 채용</a></li>\n",
       "<li>\n",
       "<a href=\"https://dashboard.jobs.go.kr\" rel=\"noopener noreferrer\" target=\"_blank\" title=\"일자리 상황판 새창열림\">일자리 상황판</a>\n",
       "</li>\n",
       "<li>\n",
       "<a href=\"/about/organization\">청와대 조직도</a>\n",
       "</li>\n",
       "<li>\n",
       "<a href=\"/budgets\">세입·세출예산 운용상황</a>\n",
       "</li>\n",
       "<li>\n",
       "<a href=\"/Verification\" style=\"line-height:20px;\">고위공직 예비후보자<br/>사전 질문서</a>\n",
       "</li>\n",
       "<li>\n",
       "<a href=\"http://pa.go.kr/\" rel=\"noopener noreferrer\" target=\"_blank\" title=\"청와대 기록관 새창열림\">청와대 기록관</a>\n",
       "</li>\n",
       "<li>\n",
       "<a href=\"/about/location?where=desk\">오시는 길</a>\n",
       "</li>\n",
       "</ul>\n",
       "</li>\n",
       "<li><button onclick=\"location.href='/tours/about';\" type=\"button\"><h3>청와대 관람 신청<i style=\"background-position-x:0;background-position-y:50%\"><span class=\"sound_only\">청와대 관람 신청</span></i></h3></button></li>\n",
       "<li><button onclick=\"location.href='http://english.president.go.kr';\" type=\"button\"><h3>English<i aria-hidden=\"true\" class=\"fa fa-globe\" style=\"background:none; font-size:38px\"><span class=\"sound_only\">English</span></i></h3></button></li>\n",
       "</ul>\n",
       "</nav>\n",
       "</div>\n",
       "</header>\n",
       "<hr/>\n",
       "<!-- haeder -->\n",
       "<div class=\"c_sub \" id=\"contents\">\n",
       "<section class=\"cs_hero newsroom\" style=\"background-image: url('http://www1.president.go.kr/storage/cover/M7t8iNdrkhGLmiBT3VsjyPY0sX3x30O0yveIgMHz.jpeg');\">\n",
       "<div class=\"sound_only\">국민청원 및 제안 사진</div>\n",
       "<div class=\"csh_txt\">\n",
       "<h2 class=\"title t1 bold cw motion fadeInDown visible\" data-animation=\"fadeInDown\">국민청원 및 제안</h2>\n",
       "<p class=\"text bold big cw motion fadeInDown visible\" data-animation=\"fadeInDown\"></p>\n",
       "</div>\n",
       "</section>\n",
       "<section class=\"cs_wrap\" id=\"cont_view\">\n",
       "<div class=\"cs_tab\">\n",
       "<div class=\"tab div4\">\n",
       "<ul>\n",
       "<li class=\"motion fadeInLeft visible\" data-animation=\"fadeInLeft\">\n",
       "<a href=\"/petitions\">최신순</a>\n",
       "</li>\n",
       "<li class=\"motion fadeInLeft visible\" data-animation=\"fadeInLeft\">\n",
       "<a href=\"/petitions?order=best\">추천순</a>\n",
       "</li>\n",
       "<li class=\"motion fadeInLeft visible\" data-animation=\"fadeInLeft\">\n",
       "<a class=\"on\" href=\"/petitions/category\">분야별 청원</a>\n",
       "</li>\n",
       "<li class=\"motion fadeInLeft visible\" data-animation=\"fadeInLeft\">\n",
       "<a href=\"/petitions/answer\">답변된 청원</a>\n",
       "</li>\n",
       "</ul>\n",
       "</div>\n",
       "</div>\n",
       "<div class=\"cs_area\">\n",
       "<div class=\"cs_body \">\n",
       "<div class=\"wrap\">\n",
       "<div class=\"ct_petitions ct_petitions_graph\">\n",
       "<div class=\"ct_petitions\">\n",
       "<div class=\"b_title\">\n",
       "<h4 class=\"motion fadeInDown visible\" data-animation=\"fadeInDown\"><span class=\"name_point\"></span>청원 작성하기</h4>\n",
       "</div>\n",
       "<div class=\"ct_petitions_area ct_txt1 ct_txt_left boder_sol\">\n",
       "<p>청와대의 직접 소통은  국민이 물으면 정부가 답한다 는 철학을 지향합니다.</p>\n",
       "<p>국정 현안 관련, 국민들 다수의 목소리가 모여 30일 동안 20만 명 이상의 국민들이 추천한 청원에 대해서는</p>\n",
       "<p><span class=\"ct_txt_color1\">정부 및 청와대 관계자(각 부처 장관, 대통령 수석 비서관, 특별보좌관 등)</span>가 답하겠습니다.</p>\n",
       "<div class=\"ct_btn_area\"><a class=\"ct_btn\" href=\"/petitions/participation\">지금 청원하기</a></div>\n",
       "</div>\n",
       "</div><!-- ct_petitions end -->\n",
       "<div class=\"ct_petitions\">\n",
       "<div class=\"b_title\">\n",
       "<h4 class=\"motion\" data-animation=\"fadeInDown\"><span class=\"name_point\"></span>청원 분야별 보기</h4>\n",
       "</div>\n",
       "<div class=\"ct_petitions_area ct_txt_left\">\n",
       "<div class=\"category_area\">\n",
       "<ul>\n",
       "<li><a class=\"category_link0\" href=\"javascript:void(0);\" onclick=\"category_sel(this);\" rel-category=\"0\">전체</a></li>\n",
       "<li><a class=\"category_link35\" href=\"javascript:void(0);\" onclick=\"category_sel(this);\" rel-category=\"35\">정치개혁</a></li>\n",
       "<li><a class=\"category_link36 active\" href=\"javascript:void(0);\" onclick=\"category_sel(this);\" rel-category=\"36\">외교/통일/국방</a></li>\n",
       "<li><a class=\"category_link37\" href=\"javascript:void(0);\" onclick=\"category_sel(this);\" rel-category=\"37\">일자리</a></li>\n",
       "<li><a class=\"category_link38\" href=\"javascript:void(0);\" onclick=\"category_sel(this);\" rel-category=\"38\">미래</a></li>\n",
       "<li><a class=\"category_link39\" href=\"javascript:void(0);\" onclick=\"category_sel(this);\" rel-category=\"39\">성장동력</a></li>\n",
       "<li><a class=\"category_link40\" href=\"javascript:void(0);\" onclick=\"category_sel(this);\" rel-category=\"40\">농산어촌</a></li>\n",
       "<li><a class=\"category_link41\" href=\"javascript:void(0);\" onclick=\"category_sel(this);\" rel-category=\"41\">보건복지</a></li>\n",
       "<li><a class=\"category_link42\" href=\"javascript:void(0);\" onclick=\"category_sel(this);\" rel-category=\"42\">육아/교육</a></li>\n",
       "<li><a class=\"category_link43\" href=\"javascript:void(0);\" onclick=\"category_sel(this);\" rel-category=\"43\">안전/환경</a></li>\n",
       "<li><a class=\"category_link44\" href=\"javascript:void(0);\" onclick=\"category_sel(this);\" rel-category=\"44\">저출산/고령화대책</a></li>\n",
       "<li><a class=\"category_link45\" href=\"javascript:void(0);\" onclick=\"category_sel(this);\" rel-category=\"45\">행정</a></li>\n",
       "<li><a class=\"category_link46\" href=\"javascript:void(0);\" onclick=\"category_sel(this);\" rel-category=\"46\">반려동물</a></li>\n",
       "<li><a class=\"category_link47\" href=\"javascript:void(0);\" onclick=\"category_sel(this);\" rel-category=\"47\">교통/건축/국토</a></li>\n",
       "<li><a class=\"category_link48\" href=\"javascript:void(0);\" onclick=\"category_sel(this);\" rel-category=\"48\">경제민주화</a></li>\n",
       "<li><a class=\"category_link49\" href=\"javascript:void(0);\" onclick=\"category_sel(this);\" rel-category=\"49\">인권/성평등</a></li>\n",
       "<li><a class=\"category_link50\" href=\"javascript:void(0);\" onclick=\"category_sel(this);\" rel-category=\"50\">문화/예술/체육/언론</a></li>\n",
       "<li><a class=\"category_link51\" href=\"javascript:void(0);\" onclick=\"category_sel(this);\" rel-category=\"51\">기타</a></li>\n",
       "</ul>\n",
       "</div>\n",
       "<div class=\"category_tab\">\n",
       "<ul>\n",
       "<li><a class=\"category_tab1\" href=\"javascript:void(0);\" onclick=\"only_sel(this);\" rel-only=\"1\" title=\"선택됨\">진행 중 청원</a></li>\n",
       "<li><a class=\"category_tab2 active\" href=\"javascript:void(1);\" onclick=\"only_sel(this);\" rel-only=\"2\">만료된 청원</a></li>\n",
       "</ul>\n",
       "</div>\n",
       "<!-- 추천수 TOP 5 -->\n",
       "<div class=\"ct_list\">\n",
       "<div class=\"board text\">\n",
       "<h4 class=\"motion smtitle\" data-animation=\"fadeInDown\"><span class=\"category_name\">전체</span> 추천순 TOP 5</h4>\n",
       "<div class=\"b_list category\">\n",
       "<div aria-hidden=\"true\" class=\"bl_head cb\">\n",
       "<div class=\"bl_wrap\">\n",
       "<div class=\"bl_no\">번호</div>\n",
       "<div class=\"bl_category\">분류</div>\n",
       "<div class=\"bl_subject\">제목</div>\n",
       "<div class=\"bl_name\">청원인</div>\n",
       "<div class=\"bl_date\">청원기간</div>\n",
       "<div class=\"bl_agree\">참여인원</div>\n",
       "</div>\n",
       "</div>\n",
       "<div class=\"bl_body\">\n",
       "<ul class=\"petition_rank\"><li style=\"padding:20px 0;\"><div class=\"bl_wrap\"><div class=\"bl_no\"><span class=\"sound_only\">번호 </span>1</div><div class=\"bl_category ccategory cs\"><span class=\"sound_only\">분류 </span>외교/통일/국방</div><div class=\"bl_subject\"><a class=\"cb relpy_w\" href=\"/petitions/269548\"><span class=\"sound_only\">제목 </span>제주도 불법 난민 신청 문제에 따른 난민법, 무사증 입국, 난민신청허가 폐지/개헌 청원합니다.</a></div><div class=\"bl_name\"><span class=\"sound_only\">청원인 </span>naver - ***</div><div class=\"bl_date light\"><span class=\"sound_only\">청원기간 </span>18.06.13 ~ 18.07.13</div><div class=\"bl_agree cs\"><span class=\"sound_only\">참여인원 </span>714,875명</div></div></li><li style=\"padding:20px 0;\"><div class=\"bl_wrap\"><div class=\"bl_no\"><span class=\"sound_only\">번호 </span>2</div><div class=\"bl_category ccategory cs\"><span class=\"sound_only\">분류 </span>외교/통일/국방</div><div class=\"bl_subject\"><a class=\"cb relpy_w\" href=\"/petitions/105105\"><span class=\"sound_only\">제목 </span>나경원 의원 평창올림픽 위원직을 파면시켜주세요</a></div><div class=\"bl_name\"><span class=\"sound_only\">청원인 </span>kakao - ***</div><div class=\"bl_date light\"><span class=\"sound_only\">청원기간 </span>18.01.20 ~ 18.02.19</div><div class=\"bl_agree cs\"><span class=\"sound_only\">참여인원 </span>360,905명</div></div></li><li style=\"padding:20px 0;\"><div class=\"bl_wrap\"><div class=\"bl_no\"><span class=\"sound_only\">번호 </span>3</div><div class=\"bl_category ccategory cs\"><span class=\"sound_only\">분류 </span>외교/통일/국방</div><div class=\"bl_subject\"><a class=\"cb relpy_w\" href=\"/petitions/236397\"><span class=\"sound_only\">제목 </span>자주포 폭발사고로 전신화상을 입은 장병을 치료해 주시고 국가유공자로 지정해 주십시오</a></div><div class=\"bl_name\"><span class=\"sound_only\">청원인 </span>naver - ***</div><div class=\"bl_date light\"><span class=\"sound_only\">청원기간 </span>18.05.18 ~ 18.06.17</div><div class=\"bl_agree cs\"><span class=\"sound_only\">참여인원 </span>302,635명</div></div></li><li style=\"padding:20px 0;\"><div class=\"bl_wrap\"><div class=\"bl_no\"><span class=\"sound_only\">번호 </span>4</div><div class=\"bl_category ccategory cs\"><span class=\"sound_only\">분류 </span>외교/통일/국방</div><div class=\"bl_subject\"><a class=\"cb relpy_w\" href=\"/petitions/273112\"><span class=\"sound_only\">제목 </span>남편선교사가 안티폴로감옥에 있습니다. (필리핀)</a></div><div class=\"bl_name\"><span class=\"sound_only\">청원인 </span>facebook - ***</div><div class=\"bl_date light\"><span class=\"sound_only\">청원기간 </span>18.06.17 ~ 18.07.17</div><div class=\"bl_agree cs\"><span class=\"sound_only\">참여인원 </span>207,275명</div></div></li><li style=\"padding:20px 0;\"><div class=\"bl_wrap\"><div class=\"bl_no\"><span class=\"sound_only\">번호 </span>5</div><div class=\"bl_category ccategory cs\"><span class=\"sound_only\">분류 </span>외교/통일/국방</div><div class=\"bl_subject\"><a class=\"cb relpy_w\" href=\"/petitions/899\"><span class=\"sound_only\">제목 </span>남성만의 실질적 독박 국방의무 이행에서 벗어나 여성도 의무 이행에 동참하도록 법률개정이 되어야 합니다.</a></div><div class=\"bl_name\"><span class=\"sound_only\">청원인 </span>naver - ***</div><div class=\"bl_date light\"><span class=\"sound_only\">청원기간 </span>17.08.30 ~ 17.09.14</div><div class=\"bl_agree cs\"><span class=\"sound_only\">참여인원 </span>123,204명</div></div></li></ul>\n",
       "</div>\n",
       "</div>\n",
       "</div>\n",
       "</div>\n",
       "<!-- 전체목록 -->\n",
       "<div class=\"ct_list1\">\n",
       "<div class=\"board text\">\n",
       "<div class=\"b_title\">\n",
       "<h4 class=\"motion smtitle\" data-animation=\"fadeInDown\"><span class=\"category_list_name\">전체</span> 목록</h4>\n",
       "<div class=\"ct_search\">\n",
       "<select id=\"order\" name=\"order\" title=\"보기 순서 선택\">\n",
       "<option selected=\"\" value=\"1\">최신순 보기</option>\n",
       "<option value=\"2\">추천순 보기</option>\n",
       "</select>\n",
       "</div>\n",
       "</div>\n",
       "<div class=\"b_list category\">\n",
       "<div aria-hidden=\"true\" class=\"bl_head cb\">\n",
       "<div class=\"bl_wrap\">\n",
       "<div class=\"bl_no\">번호</div>\n",
       "<div class=\"bl_category\">분류</div>\n",
       "<div class=\"bl_subject\">제목</div>\n",
       "<div class=\"bl_name\">청원인</div>\n",
       "<div class=\"bl_date\">청원기간</div>\n",
       "<div class=\"bl_agree\">참여인원</div>\n",
       "</div>\n",
       "</div>\n",
       "<div class=\"bl_body\">\n",
       "<ul class=\"petition_list\"><li style=\"padding:20px 0;\"><div class=\"bl_wrap\"><div class=\"bl_no\"><span class=\"sound_only\">번호 </span>21301</div><div class=\"bl_category ccategory cs\"><span class=\"sound_only\">분류 </span>외교/통일/국방</div><div class=\"bl_subject\"><a class=\"cb relpy_w\" href=\"/petitions/408593\"><span class=\"sound_only\">제목 </span>9월평양공동 선언 에 대한 국민공청회 를 열어주세요</a></div><div class=\"bl_name\"><span class=\"sound_only\">청원인 </span>naver - ***</div><div class=\"bl_date light\"><span class=\"sound_only\">청원기간 </span>18.10.16 ~ 18.11.15</div><div class=\"bl_agree cs\"><span class=\"sound_only\">참여인원 </span>93명</div></div></li><li style=\"padding:20px 0;\"><div class=\"bl_wrap\"><div class=\"bl_no\"><span class=\"sound_only\">번호 </span>21300</div><div class=\"bl_category ccategory cs\"><span class=\"sound_only\">분류 </span>외교/통일/국방</div><div class=\"bl_subject\"><a class=\"cb relpy_w\" href=\"/petitions/408530\"><span class=\"sound_only\">제목 </span>남북에철도연결반대한다고역적이라고하는자처벌해주십시요</a></div><div class=\"bl_name\"><span class=\"sound_only\">청원인 </span>naver - ***</div><div class=\"bl_date light\"><span class=\"sound_only\">청원기간 </span>18.10.16 ~ 18.11.15</div><div class=\"bl_agree cs\"><span class=\"sound_only\">참여인원 </span>15명</div></div></li><li style=\"padding:20px 0;\"><div class=\"bl_wrap\"><div class=\"bl_no\"><span class=\"sound_only\">번호 </span>21299</div><div class=\"bl_category ccategory cs\"><span class=\"sound_only\">분류 </span>외교/통일/국방</div><div class=\"bl_subject\"><a class=\"cb relpy_w\" href=\"/petitions/408523\"><span class=\"sound_only\">제목 </span>혈맹인 미국과의 균열조짐 제발 북한에 신경쓰지 마세요.</a></div><div class=\"bl_name\"><span class=\"sound_only\">청원인 </span>naver - ***</div><div class=\"bl_date light\"><span class=\"sound_only\">청원기간 </span>18.10.16 ~ 18.11.15</div><div class=\"bl_agree cs\"><span class=\"sound_only\">참여인원 </span>8명</div></div></li><li style=\"padding:20px 0;\"><div class=\"bl_wrap\"><div class=\"bl_no\"><span class=\"sound_only\">번호 </span>21298</div><div class=\"bl_category ccategory cs\"><span class=\"sound_only\">분류 </span>외교/통일/국방</div><div class=\"bl_subject\"><a class=\"cb relpy_w\" href=\"/petitions/408522\"><span class=\"sound_only\">제목 </span>대북재제</a></div><div class=\"bl_name\"><span class=\"sound_only\">청원인 </span>naver - ***</div><div class=\"bl_date light\"><span class=\"sound_only\">청원기간 </span>18.10.16 ~ 18.11.15</div><div class=\"bl_agree cs\"><span class=\"sound_only\">참여인원 </span>11명</div></div></li><li style=\"padding:20px 0;\"><div class=\"bl_wrap\"><div class=\"bl_no\"><span class=\"sound_only\">번호 </span>21297</div><div class=\"bl_category ccategory cs\"><span class=\"sound_only\">분류 </span>외교/통일/국방</div><div class=\"bl_subject\"><a class=\"cb relpy_w\" href=\"/petitions/408511\"><span class=\"sound_only\">제목 </span>북한편들기  경제파탄 책임 지세요</a></div><div class=\"bl_name\"><span class=\"sound_only\">청원인 </span>naver - ***</div><div class=\"bl_date light\"><span class=\"sound_only\">청원기간 </span>18.10.16 ~ 18.11.15</div><div class=\"bl_agree cs\"><span class=\"sound_only\">참여인원 </span>13명</div></div></li><li style=\"padding:20px 0;\"><div class=\"bl_wrap\"><div class=\"bl_no\"><span class=\"sound_only\">번호 </span>21296</div><div class=\"bl_category ccategory cs\"><span class=\"sound_only\">분류 </span>외교/통일/국방</div><div class=\"bl_subject\"><a class=\"cb relpy_w\" href=\"/petitions/408438\"><span class=\"sound_only\">제목 </span>◈◈ 국제적인 망신__\"북한핵\" 문제의 당사국인 우리나라가 이상하게 대처하여 동맹국에 까지 항의를 듣다니.......</a></div><div class=\"bl_name\"><span class=\"sound_only\">청원인 </span>naver - ***</div><div class=\"bl_date light\"><span class=\"sound_only\">청원기간 </span>18.10.16 ~ 18.11.15</div><div class=\"bl_agree cs\"><span class=\"sound_only\">참여인원 </span>40명</div></div></li><li style=\"padding:20px 0;\"><div class=\"bl_wrap\"><div class=\"bl_no\"><span class=\"sound_only\">번호 </span>21295</div><div class=\"bl_category ccategory cs\"><span class=\"sound_only\">분류 </span>외교/통일/국방</div><div class=\"bl_subject\"><a class=\"cb relpy_w\" href=\"/petitions/408408\"><span class=\"sound_only\">제목 </span>대통령의 국정 목표가 대북 퍼주기인가?</a></div><div class=\"bl_name\"><span class=\"sound_only\">청원인 </span>naver - ***</div><div class=\"bl_date light\"><span class=\"sound_only\">청원기간 </span>18.10.16 ~ 18.11.15</div><div class=\"bl_agree cs\"><span class=\"sound_only\">참여인원 </span>28명</div></div></li><li style=\"padding:20px 0;\"><div class=\"bl_wrap\"><div class=\"bl_no\"><span class=\"sound_only\">번호 </span>21294</div><div class=\"bl_category ccategory cs\"><span class=\"sound_only\">분류 </span>외교/통일/국방</div><div class=\"bl_subject\"><a class=\"cb relpy_w\" href=\"/petitions/408400\"><span class=\"sound_only\">제목 </span>지금처럼 우리나라 대통령이 부끄러웠던 적이 없었다.</a></div><div class=\"bl_name\"><span class=\"sound_only\">청원인 </span>facebook - ***</div><div class=\"bl_date light\"><span class=\"sound_only\">청원기간 </span>18.10.16 ~ 18.11.15</div><div class=\"bl_agree cs\"><span class=\"sound_only\">참여인원 </span>26명</div></div></li><li style=\"padding:20px 0;\"><div class=\"bl_wrap\"><div class=\"bl_no\"><span class=\"sound_only\">번호 </span>21293</div><div class=\"bl_category ccategory cs\"><span class=\"sound_only\">분류 </span>외교/통일/국방</div><div class=\"bl_subject\"><a class=\"cb relpy_w\" href=\"/petitions/408383\"><span class=\"sound_only\">제목 </span>비핵화...왜?  미국인들은 한국을 속국으로 볼까요? 우리는 대한민국입니다</a></div><div class=\"bl_name\"><span class=\"sound_only\">청원인 </span>naver - ***</div><div class=\"bl_date light\"><span class=\"sound_only\">청원기간 </span>18.10.16 ~ 18.11.15</div><div class=\"bl_agree cs\"><span class=\"sound_only\">참여인원 </span>7명</div></div></li><li style=\"padding:20px 0;\"><div class=\"bl_wrap\"><div class=\"bl_no\"><span class=\"sound_only\">번호 </span>21292</div><div class=\"bl_category ccategory cs\"><span class=\"sound_only\">분류 </span>외교/통일/국방</div><div class=\"bl_subject\"><a class=\"cb relpy_w\" href=\"/petitions/408368\"><span class=\"sound_only\">제목 </span>조명균은 장관직  사퇴하고 헌법에 보장된 언론 자유를 침해한 죄로 검찰의 수사를 촉구한다ㆍ그리고 굴욕적인 모습을  보인 남북회담을 반대한다</a></div><div class=\"bl_name\"><span class=\"sound_only\">청원인 </span>naver - ***</div><div class=\"bl_date light\"><span class=\"sound_only\">청원기간 </span>18.10.16 ~ 18.11.15</div><div class=\"bl_agree cs\"><span class=\"sound_only\">참여인원 </span>31명</div></div></li></ul>\n",
       "</div>\n",
       "</div>\n",
       "<div class=\"ct_btn_area1\"><a class=\"ct_btn\" href=\"/petitions/participation\">지금 청원하기</a></div>\n",
       "</div>\n",
       "<div class=\"paging\">\n",
       "<div class=\"p_wrap\">\n",
       "<div class=\"p_btn pagingbtn\"><a class=\"on\" href=\"#\" title=\"현재 페이지\"><strong>1</strong></a> <a href=\"javascript:void(0);\" onclick=\"paging(2);\">2</a> <a href=\"javascript:void(0);\" onclick=\"paging(3);\">3</a> <a href=\"javascript:void(0);\" onclick=\"paging(4);\">4</a> <a href=\"javascript:void(0);\" onclick=\"paging(5);\">5</a> <a href=\"javascript:void(0);\" onclick=\"paging(6);\">Next</a></div>\n",
       "</div>\n",
       "</div>\n",
       "</div>\n",
       "</div><!-- ct_petitions_area end -->\n",
       "</div><!-- ct_petitions end -->\n",
       "</div>\n",
       "</div>\n",
       "</div>\n",
       "</div></section>\n",
       "</div>\n",
       "<!-- // haeder -->\n",
       "<hr/>\n",
       "<script>\n",
       "\tvar category=36;\n",
       "\tvar category_name=\"전체\";\n",
       "\tvar category_list_name=\"전체\";\n",
       "\tvar only=2;\n",
       "\tvar page=1;\n",
       "\tvar order=1;\n",
       "\tfunction get_rank(category,only,page,order){\n",
       "\t\t$(\".petition_list\").html('');\n",
       "\t\t$('.category_tab a').removeClass('active');\n",
       "\t\t$('.category_tab'+only).addClass('active');\n",
       "\t\t$('.category_area a').removeClass('active');\n",
       "\t\t$('.category_link'+category).addClass('active');\n",
       "\n",
       "\t\t$(\".petition_rank\").html('');\n",
       "\n",
       "\t\t$.ajax({\n",
       "\t\t\ttype:\"POST\",\n",
       "\t\t\t\turl:\"/petitions/rank\",\n",
       "\t\t\t\tdata:'c='+category+'&amp;only='+only,\n",
       "\t\t\t\tdataType : \"json\",\n",
       "\t\t\t\tsuccess:function(data){\n",
       "\t\t\t\t\tif (data.status == \"error\")\t{\n",
       "\t\t\t\t\t\talter(data.message);\n",
       "\t\t\t\t\t\treturn ;\n",
       "\t\t\t\t\t}\n",
       "\t\t\t\t\tfor (var i=0;i&lt;data.item.length ;i++ ) {\n",
       "\t\t\t\t\t\t$(\".petition_rank\").append('&lt;li style=\"padding:20px 0;\"&gt;&lt;div class=\"bl_wrap\"&gt;&lt;div class=\"bl_no\"&gt;&lt;span class=\"sound_only\"&gt;번호 &lt;/span&gt;'+(i+1)+'&lt;/div&gt;&lt;div class=\"bl_category ccategory cs\"&gt;&lt;span class=\"sound_only\"&gt;분류 &lt;/span&gt;'+data.item[i].category+'&lt;/div&gt;&lt;div class=\"bl_subject\"&gt;&lt;a href=\"/petitions/'+data.item[i].id+'\" class=\"cb relpy_w\"&gt;&lt;span class=\"sound_only\"&gt;제목 &lt;/span&gt;'+data.item[i].title+'&lt;/a&gt;&lt;/div&gt;&lt;div class=\"bl_name\"&gt;&lt;span class=\"sound_only\"&gt;청원인 &lt;/span&gt;'+data.item[i].provider+' - ***&lt;/div&gt;&lt;div class=\"bl_date light\"&gt;&lt;span class=\"sound_only\"&gt;청원기간 &lt;/span&gt;'+data.item[i].created+' ~ '+data.item[i].finished+'&lt;/div&gt;&lt;div class=\"bl_agree cs\"&gt;&lt;span class=\"sound_only\"&gt;참여인원 &lt;/span&gt;'+data.item[i].agreement+'명&lt;/div&gt;&lt;/div&gt;&lt;/li&gt;');\n",
       "\t\t\t\t\t}\n",
       "\n",
       "\t\t\t\t\t$('.category_name').text(category_name);\n",
       "\t\t\t\t},\n",
       "\t\t\t\terror:function(e){\n",
       "\t\t\t\t\talert(\"잠시후 다시 이용해 주세요\");\n",
       "\t\t\t\t}\n",
       "\t\t\t});\n",
       "\n",
       "\n",
       "\t\t$.ajax({\n",
       "\t\t\ttype:\"POST\",\n",
       "\t\t\t\turl:\"/petitions/list\",\n",
       "\t\t\t\tdata:'c='+category+'&amp;only='+only+\"&amp;page=\"+page+\"&amp;order=\"+order,\n",
       "\t\t\t\tdataType : \"json\",\n",
       "\t\t\t\tsuccess:function(data){\n",
       "\t\t\t\t\tif (data.status == \"error\")\t{\n",
       "\t\t\t\t\t\talter(data.message);\n",
       "\t\t\t\t\t\treturn ;\n",
       "\t\t\t\t\t}\n",
       "\t\t\t\t\tfor (var i=0;i&lt;data.item.length ;i++ ) {\n",
       "\t\t\t\t\t\t$(\".petition_list\").append('&lt;li style=\"padding:20px 0;\"&gt;&lt;div class=\"bl_wrap\"&gt;&lt;div class=\"bl_no\"&gt;&lt;span class=\"sound_only\"&gt;번호 &lt;/span&gt;'+data.item[i].paging_id+'&lt;/div&gt;&lt;div class=\"bl_category ccategory cs\"&gt;&lt;span class=\"sound_only\"&gt;분류 &lt;/span&gt;'+data.item[i].category+'&lt;/div&gt;&lt;div class=\"bl_subject\"&gt;&lt;a href=\"/petitions/'+data.item[i].id+'\" class=\"cb relpy_w\"&gt;&lt;span class=\"sound_only\"&gt;제목 &lt;/span&gt;'+data.item[i].title+'&lt;/a&gt;&lt;/div&gt;&lt;div class=\"bl_name\"&gt;&lt;span class=\"sound_only\"&gt;청원인 &lt;/span&gt;'+data.item[i].provider+' - ***&lt;/div&gt;&lt;div class=\"bl_date light\"&gt;&lt;span class=\"sound_only\"&gt;청원기간 &lt;/span&gt;'+data.item[i].created+' ~ '+data.item[i].finished+'&lt;/div&gt;&lt;div class=\"bl_agree cs\"&gt;&lt;span class=\"sound_only\"&gt;참여인원 &lt;/span&gt;'+data.item[i].agreement+'명&lt;/div&gt;&lt;/div&gt;&lt;/li&gt;');\n",
       "\t\t\t\t\t}\n",
       "\n",
       "\t\t\t\t\t$('.pagingbtn').html(data.paging);\n",
       "\n",
       "\t\t\t\t\t$('.category_list_name').text(category_list_name);\n",
       "\t\t\t\t},\n",
       "\t\t\t\terror:function(e){\n",
       "\t\t\t\t\talert(\"잠시후 다시 이용해 주세요\");\n",
       "\t\t\t\t}\n",
       "\t\t\t});\n",
       "\t}\n",
       "\n",
       "\n",
       "\n",
       "\tfunction category_sel(oj){\n",
       "\t\tcategory=$(oj).attr('rel-category');\n",
       "\t\tcategory_list_name=$(oj).text();\n",
       "\t\tcategory_name=$(oj).text();\n",
       "\t\t$('.category_area a').removeAttr(\"title\").removeClass('active');\n",
       "\t\t$(oj).attr(\"title\",\"선택된 분야\").addClass('active');\n",
       "\t\tHistory.pushState({\"c\":category,\"only\":only,\"page\":1,\"order\":order}, '분야별 국민청원 및 제안 목록 페이지 1', \"?c=\"+category+\"&amp;only=\"+only+\"&amp;page=1&amp;order=\"+order); // logs {state:1}, \"State 1\", \"?state=1\"\n",
       "\t}\n",
       "\n",
       "\tfunction only_sel(oj){\n",
       "\t\tonly=$(oj).attr('rel-only');\n",
       "\t\t$(oj).removeAttr(\"title\");\n",
       "\t\t$(oj).attr(\"title\",\"선택됨\");\n",
       "\t\t//category_name=$(oj).text();\n",
       "\t\t//category_list_name=$(oj).text();\n",
       "\t\tHistory.pushState({\"c\":category,\"only\":only,\"page\":1,\"order\":order}, '분야별 국민청원 및 제안 목록 페이지 1', \"?c=\"+category+\"&amp;only=\"+only+\"&amp;page=1&amp;order=\"+order); // logs {state:1}, \"State 1\", \"?state=1\"\n",
       "\t}\n",
       "\n",
       "\tfunction paging(page){\n",
       "\t\t$(\"html, body\").animate({scrollTop:($('.ct_list1').offset().top)-100},500);\n",
       "\t\t$('.ct_list1').attr(\"tabindex\",\"0\").focus();\n",
       "\t\tHistory.pushState({\"c\":category,\"only\":only,\"page\":page,\"order\":order}, '분야별 국민청원 및 제안 목록 페이지 '+page, \"?c=\"+category+\"&amp;only=\"+only+\"&amp;page=\"+page+\"&amp;order=\"+order); // logs {state:1}, \"State 1\", \"?state=1\"\n",
       "\t}\n",
       "\n",
       "\n",
       "\n",
       "(function(window,undefined){\n",
       "\t// Bind to StateChange Event\n",
       "\tHistory.Adapter.bind(window,'statechange',function(){ // Note: We are using statechange instead of popstate\n",
       "\t\tvar State = History.getState(); // Note: We are using History.getState() instead of event.state\n",
       "\t\tget_rank(State.data.c,State.data.only,State.data.page,State.data.order);\n",
       "\t});\n",
       "\n",
       "})(window);\n",
       "var State = History.getState();\n",
       "get_rank(category,only,page,order);\n",
       "\n",
       "$(\"body\").on(\"change\",\"#order\", function() {\n",
       "\torder = $(this).val();\n",
       "\tHistory.pushState({\"c\":category,\"only\":only,\"page\":page,\"order\":order}, null, \"?c=\"+category+\"&amp;only=\"+only+\"&amp;page=\"+page+\"&amp;order=\"+order); // logs {state:1}, \"State 1\", \"?state=1\"\n",
       "});\n",
       "\n",
       "\n",
       "\t</script>\n",
       "<!-- sitemap -->\n",
       "<div id=\"sitemap\">\n",
       "<button class=\"s_btn\">사이트맵 <span class=\"blind\">버튼</span></button>\n",
       "<div class=\"wrap\">\n",
       "<ul class=\"depth1\">\n",
       "<li>\n",
       "<h3>문재인 대통령\n",
       "\t\t\t\t\t<a class=\"blind\" href=\"/calendar\">바로가기</a>\n",
       "</h3>\n",
       "<ul class=\"depth2\">\n",
       "<li><a href=\"/calendar\">공개일정</a></li>\n",
       "<li><a href=\"/president-journey\">걸어온길</a></li>\n",
       "<li><a href=\"/c/president-speeches\">대통령의 말과 글</a></li>\n",
       "<li><a href=\"/c/first-lady-quotations\">김정숙의 말과 글</a></li>\n",
       "</ul>\n",
       "</li>\n",
       "<li>\n",
       "<h3>청와대 뉴스룸<a class=\"blind\" href=\"/live-speeches\">바로가기</a></h3>\n",
       "<ul class=\"depth2\">\n",
       "<li><a href=\"/live-speeches\">청와대 온에어</a></li>\n",
       "<li><a href=\"/c/briefings\">청와대 브리핑</a></li>\n",
       "<li><a href=\"/c/oversea-journals\">해외언론보도</a></li>\n",
       "<li><a href=\"/c/blue-house-stories\">청와대 이야기</a></li>\n",
       "<li><a href=\"/TodayShot\">오늘의 한 장</a></li>\n",
       "<li><a href=\"/econo_num\">숫자로 읽는 우리 경제</a></li>\n",
       "<li><a href=\"/history\">청와대 일기</a></li>\n",
       "</ul>\n",
       "</li>\n",
       "<li>\n",
       "<h3>정책자료<a class=\"blind\" href=\"/policies\">바로가기</a></h3>\n",
       "<ul class=\"depth2\">\n",
       "<li><a href=\"/policies\">정책현안</a></li>\n",
       "<li><a href=\"http://www.korea.kr/policy/actuallyList.do?pWise=main&amp;pWiseMain=A25\" rel=\"noopener noreferrer\" target=\"_blank\" title=\"정책브리핑 새창열림\">정책브리핑</a></li>\n",
       "<li><a href=\"/government-projects\">국정과제</a></li>\n",
       "<li><a href=\"/GovReport2018\">2018년 정부부처 업무보고</a></li>\n",
       "<li><a href=\"/c/numerical-government\">숫자로 보는 정책</a></li>\n",
       "</ul>\n",
       "</li>\n",
       "<li>\n",
       "<h3>국민소통 광장<a class=\"blind\" href=\"/event\" rel=\"noopener noreferrer\" target=\"_blank\" title=\"국민소통 광장 새창열림\">바로가기</a></h3>\n",
       "<ul class=\"depth2\">\n",
       "<li><a href=\"/event\" rel=\"noopener noreferrer\" target=\"_blank\" title=\"문재인 대통령 1주년 새창열림\">문재인 대통령 1주년</a></li>\n",
       "<li><a href=\"/Amendment\">국민 개헌안</a></li>\n",
       "<li><a href=\"/forums\">토론방</a></li>\n",
       "<li><a href=\"/petitions\">국민청원 및 제안</a></li>\n",
       "<li><a href=\"http://epeople.go.kr\" rel=\"noopener noreferrer\" target=\"_blank\" title=\"국민신문고 새창열림\">국민신문고</a></li>\n",
       "<li><a href=\"http://mybudget.go.kr\" rel=\"noopener noreferrer\" target=\"_blank\" title=\"국민참여예산 새창열림\">국민참여예산</a></li>\n",
       "<li><a href=\"https://www.hrdb.go.kr/OpenRecommend\" rel=\"noopener noreferrer\" target=\"_blank\" title=\"인재추천 새창열림\">인재추천</a></li>\n",
       "<li><a href=\"http://open.pss.go.kr\" rel=\"noopener noreferrer\" target=\"_blank\" title=\"효자동사진관 새창열림\">효자동사진관</a></li>\n",
       "</ul>\n",
       "</li>\n",
       "<li>\n",
       "<h3>청와대 알림<a class=\"blind\" href=\"/about/roi\">바로가기</a></h3>\n",
       "<ul class=\"depth2\">\n",
       "<li><a href=\"/about/roi\">정보공개</a></li>\n",
       "<li><a href=\"/recruit/recruitment.php\">청와대 채용</a></li>\n",
       "<li><a href=\"https://dashboard.jobs.go.kr\" rel=\"noopener noreferrer\" target=\"_blank\" title=\"일자리 상황판 새창열림\">일자리 상황판</a></li>\n",
       "<li><a href=\"/about/organization\">청와대 조직도</a></li>\n",
       "<li><a href=\"/budgets\">세입·세출예산 운용상황</a></li>\n",
       "<li>\n",
       "<a href=\"/Verification\">고위공직 예비후보자<br/>사전 질문서</a>\n",
       "</li>\n",
       "<li><a href=\"http://pa.go.kr/\" rel=\"noopener noreferrer\" target=\"_blank\" title=\"청와대 기록관 새창열림\">청와대 기록관</a></li>\n",
       "<li><a href=\"/about/location?where=desk\">오시는 길</a></li>\n",
       "<li><a href=\"/tours/about\" style=\"font-size:15px; color:#fff; font-weight:bold; margin-top:12px; text-decoration:none;\">청와대 관람신청</a></li>\n",
       "</ul>\n",
       "</li>\n",
       "</ul>\n",
       "</div>\n",
       "</div> <!-- sitemap -->\n",
       "<hr/>\n",
       "<!-- footer -->\n",
       "<style>\n",
       "#footer .f_menu .fm_tip{\n",
       "\tline-height:20px;\n",
       "\tmargin-bottom:6px;\n",
       "}\n",
       "\n",
       "@media screen and (max-width:768px){\n",
       "\t.footer_mark{display: none;}\n",
       "}\n",
       "</style>\n",
       "<footer id=\"footer\">\n",
       "<div class=\"wrap\">\n",
       "<div class=\"f_group\">\n",
       "<div class=\"f_logo\">\n",
       "<h2 class=\"blind\">대한민국 청와대</h2>\n",
       "</div>\n",
       "<div class=\"f_sns\">\n",
       "<h2 class=\"blind\">SNS 바로가기</h2>\n",
       "<ul>\n",
       "<li><a href=\"https://www.facebook.com/TheBlueHouseKR\" target=\"_blank\"><i class=\"fs_icon facebook\"><span class=\"sound_only\">페이스북 바로가기</span></i><span class=\"blind\">Facebook</span></a></li>\n",
       "<li>\n",
       "<a href=\"https://blog.naver.com/thebluehousekr\" target=\"_blank\"><i class=\"fs_icon blog\"><span class=\"sound_only\">블로그 바로가기</span></i><span class=\"blind\">blog</span></a>\n",
       "</li>\n",
       "<li><a href=\"https://twitter.com/TheBlueHouseKR\" target=\"_blank\"><i class=\"fs_icon twitter\"><span class=\"sound_only\">트위터 바로가기</span></i><span class=\"blind\">Twitter</span></a></li>\n",
       "<li><a href=\"https://www.instagram.com/thebluehouse_kr/\" target=\"_blank\"><i class=\"fs_icon instagram\"><span class=\"sound_only\">인스타그램 바로가기</span></i><span class=\"blind\">Instagram</span></a></li>\n",
       "<li><a href=\"https://www.youtube.com/TheBlueHouseKR\" target=\"_blank\"><i class=\"fs_icon youtube\"><span class=\"sound_only\">유튜브 바로가기</span></i><span class=\"blind\">Youtube</span></a></li>\n",
       "</ul>\n",
       "</div>\n",
       "</div>\n",
       "<div class=\"f_wrap\">\n",
       "<div class=\"f_info\">\n",
       "<h2>CONTACT INFO</h2>\n",
       "<ul>\n",
       "<li><i class=\"fi_icon call\"><span class=\"sound_only\">대표전화</span></i><p><a href=\"tel:02-730-5800\">(+82) 02-730-5800</a></p></li>\n",
       "<li><i class=\"fi_icon email\"><span class=\"sound_only\">담당자 메일</span></i><p> 담당자 메일 : <a href=\"mailto:webmaster@president.go.kr\">메일보내기</a></p></li>\n",
       "<li><i class=\"fi_icon address\"><span class=\"sound_only\">청와대 주소</span></i><p>03048 서울특별시 종로구 청와대로 1 대통령 비서실</p></li>\n",
       "</ul>\n",
       "</div>\n",
       "<div class=\"f_menu\">\n",
       "<div class=\"fm_wrap\">\n",
       "<ul>\n",
       "<li><a href=\"http://www1.president.go.kr/about/privacy\">개인정보처리방침</a></li>\n",
       "<li><a href=\"http://www1.president.go.kr/about/copyright\">저작권 정책</a></li>\n",
       "<li><a href=\"http://www1.president.go.kr/sitemap\">사이트맵</a></li>\n",
       "<li><a href=\"http://www1.president.go.kr/about/location\">오시는 길</a></li>\n",
       "</ul>\n",
       "<ul></ul>\n",
       "</div>\n",
       "<div class=\"fm_tip\">\n",
       "\t\t\t\t\t\t해당 메일은 기능 장애 등 홈페이지 관련 문의만 접수합니다.<br/>\n",
       "\t\t\t\t\t\t청와대 및 정부에 대한 민원·제안 및 공익신고·고발 등은\n",
       "\t\t\t\t\t\t국민신문고(<a href=\"http://www.epeople.go.kr/\" target=\"_blank\" title=\"새창 열림\">www.epeople.go.kr</a>)로\n",
       "\t\t\t\t\t\t접수해주시길 부탁드립니다.\n",
       "\t\t\t\t\t</div>\n",
       "<ul class=\"footer_mark\">\n",
       "<li><img alt=\"wa품질인증마크\" src=\"http://www.president.go.kr/cwdimg/main/wa_mark.png\"/></li>\n",
       "</ul>\n",
       "</div>\n",
       "</div>\n",
       "</div>\n",
       "<div class=\"f_copyright\">\n",
       "\t\t\t© Office of the President. All rights reserved.\n",
       "\t\t</div>\n",
       "</footer> <!-- footer -->\n",
       "</div>\n",
       "<!-- tail start -->\n",
       "<script src=\"/js/common.js\"></script>\n",
       "<script type=\"text/javascript\">\n",
       "&lt;!--\n",
       "\n",
       "\n",
       "\n",
       "\n",
       "\n",
       "\n",
       "//--&gt;\n",
       "</script>\n",
       "<!-- AceCounter Log Gathering Script -->\n",
       "<script language=\"javascript\">\n",
       "\tif(typeof _GUL == 'undefined'){\n",
       "\tvar _GUL = 'count.president.go.kr';var _GPT='80';var _SGPT='443';var _AIMG = new Image(); var _bn=navigator.appName; var _PR = location.protocol==\"https:\"?\"https://\"+_GUL+\":\"+_SGPT:\"http://\"+_GUL+\":\"+_GPT;if( _bn.indexOf(\"Netscape\") &gt; -1 || _bn==\"Mozilla\"){ setTimeout(\"_AIMG.src = _PR+'/?cookie';\",1); } else{ _AIMG.src = _PR+'/?cookie'; };\n",
       "\tdocument.writeln(\"&lt;scr\"+\"ipt language='javascript' src='/js/counter_kr.js?v=2'&gt;&lt;/scr\"+\"ipt&gt;\");\n",
       "\t}\n",
       "\t</script><script language=\"javascript\" src=\"/js/counter_kr.js?v=2\"></script>\n",
       "<noscript>&lt;img src='http://count.president.go.kr:80/?uid=11&amp;je=n&amp;' border=0 width=0 height=0&gt;</noscript>\n",
       "<!-- AceCounter Log Gathering Script End -->\n",
       "<script async=\"\" src=\"https://www.googletagmanager.com/gtag/js?id=UA-112394055-1\"></script>\n",
       "<script>\n",
       "\twindow.dataLayer = window.dataLayer || [];\n",
       "\tfunction gtag(){dataLayer.push(arguments);}\n",
       "\tgtag('js', new Date());gtag('config', 'UA-112394055-1');\n",
       "\t</script>\n",
       "</body></html>"
      ]
     },
     "execution_count": 6,
     "metadata": {},
     "output_type": "execute_result"
    }
   ],
   "source": [
    "data"
   ]
  },
  {
   "cell_type": "code",
   "execution_count": 7,
   "metadata": {},
   "outputs": [],
   "source": [
    "data_list = data.find('ul', 'petition_list').find_all('li')"
   ]
  },
  {
   "cell_type": "code",
   "execution_count": 8,
   "metadata": {},
   "outputs": [
    {
     "data": {
      "text/plain": [
       "<li style=\"padding:20px 0;\"><div class=\"bl_wrap\"><div class=\"bl_no\"><span class=\"sound_only\">번호 </span>21301</div><div class=\"bl_category ccategory cs\"><span class=\"sound_only\">분류 </span>외교/통일/국방</div><div class=\"bl_subject\"><a class=\"cb relpy_w\" href=\"/petitions/408593\"><span class=\"sound_only\">제목 </span>9월평양공동 선언 에 대한 국민공청회 를 열어주세요</a></div><div class=\"bl_name\"><span class=\"sound_only\">청원인 </span>naver - ***</div><div class=\"bl_date light\"><span class=\"sound_only\">청원기간 </span>18.10.16 ~ 18.11.15</div><div class=\"bl_agree cs\"><span class=\"sound_only\">참여인원 </span>93명</div></div></li>"
      ]
     },
     "execution_count": 8,
     "metadata": {},
     "output_type": "execute_result"
    }
   ],
   "source": [
    "data_list[0]"
   ]
  },
  {
   "cell_type": "code",
   "execution_count": 9,
   "metadata": {},
   "outputs": [
    {
     "data": {
      "text/plain": [
       "<li style=\"padding:20px 0;\"><div class=\"bl_wrap\"><div class=\"bl_no\"><span class=\"sound_only\">번호 </span>21292</div><div class=\"bl_category ccategory cs\"><span class=\"sound_only\">분류 </span>외교/통일/국방</div><div class=\"bl_subject\"><a class=\"cb relpy_w\" href=\"/petitions/408368\"><span class=\"sound_only\">제목 </span>조명균은 장관직  사퇴하고 헌법에 보장된 언론 자유를 침해한 죄로 검찰의 수사를 촉구한다ㆍ그리고 굴욕적인 모습을  보인 남북회담을 반대한다</a></div><div class=\"bl_name\"><span class=\"sound_only\">청원인 </span>naver - ***</div><div class=\"bl_date light\"><span class=\"sound_only\">청원기간 </span>18.10.16 ~ 18.11.15</div><div class=\"bl_agree cs\"><span class=\"sound_only\">참여인원 </span>31명</div></div></li>"
      ]
     },
     "execution_count": 9,
     "metadata": {},
     "output_type": "execute_result"
    }
   ],
   "source": [
    "data_list[-1]"
   ]
  },
  {
   "cell_type": "markdown",
   "metadata": {},
   "source": [
    "#### 청원 제목 뽑기"
   ]
  },
  {
   "cell_type": "code",
   "execution_count": 10,
   "metadata": {},
   "outputs": [
    {
     "data": {
      "text/plain": [
       "<a class=\"cb relpy_w\" href=\"/petitions/408593\"><span class=\"sound_only\">제목 </span>9월평양공동 선언 에 대한 국민공청회 를 열어주세요</a>"
      ]
     },
     "execution_count": 10,
     "metadata": {},
     "output_type": "execute_result"
    }
   ],
   "source": [
    "data_list[0].find('a', 'cb relpy_w')"
   ]
  },
  {
   "cell_type": "code",
   "execution_count": 11,
   "metadata": {},
   "outputs": [
    {
     "data": {
      "text/plain": [
       "<a class=\"cb relpy_w\" href=\"/petitions/408368\"><span class=\"sound_only\">제목 </span>조명균은 장관직  사퇴하고 헌법에 보장된 언론 자유를 침해한 죄로 검찰의 수사를 촉구한다ㆍ그리고 굴욕적인 모습을  보인 남북회담을 반대한다</a>"
      ]
     },
     "execution_count": 11,
     "metadata": {},
     "output_type": "execute_result"
    }
   ],
   "source": [
    "data_list[-1].find('a', 'cb relpy_w')"
   ]
  },
  {
   "cell_type": "code",
   "execution_count": 12,
   "metadata": {},
   "outputs": [
    {
     "data": {
      "text/plain": [
       "'제목 9월평양공동 선언 에 대한 국민공청회 를 열어주세요'"
      ]
     },
     "execution_count": 12,
     "metadata": {},
     "output_type": "execute_result"
    }
   ],
   "source": [
    "data_list[0].find('a', 'cb relpy_w').get_text()"
   ]
  },
  {
   "cell_type": "code",
   "execution_count": 13,
   "metadata": {},
   "outputs": [
    {
     "data": {
      "text/plain": [
       "'9월평양공동 선언 에 대한 국민공청회 를 열어주세요'"
      ]
     },
     "execution_count": 13,
     "metadata": {},
     "output_type": "execute_result"
    }
   ],
   "source": [
    "data_list[0].find('a', 'cb relpy_w').get_text()[3:]"
   ]
  },
  {
   "cell_type": "markdown",
   "metadata": {},
   "source": [
    "#### 청원 날짜 뽑기"
   ]
  },
  {
   "cell_type": "code",
   "execution_count": 14,
   "metadata": {},
   "outputs": [
    {
     "data": {
      "text/plain": [
       "<div class=\"bl_date light\"><span class=\"sound_only\">청원기간 </span>18.10.16 ~ 18.11.15</div>"
      ]
     },
     "execution_count": 14,
     "metadata": {},
     "output_type": "execute_result"
    }
   ],
   "source": [
    "data_list[0].find('div', 'bl_date light')"
   ]
  },
  {
   "cell_type": "code",
   "execution_count": 15,
   "metadata": {},
   "outputs": [
    {
     "data": {
      "text/plain": [
       "<div class=\"bl_date light\"><span class=\"sound_only\">청원기간 </span>18.10.16 ~ 18.11.15</div>"
      ]
     },
     "execution_count": 15,
     "metadata": {},
     "output_type": "execute_result"
    }
   ],
   "source": [
    "data_list[-1].find('div', 'bl_date light')"
   ]
  },
  {
   "cell_type": "code",
   "execution_count": 16,
   "metadata": {},
   "outputs": [
    {
     "data": {
      "text/plain": [
       "'청원기간 18.10.16 ~ 18.11.15'"
      ]
     },
     "execution_count": 16,
     "metadata": {},
     "output_type": "execute_result"
    }
   ],
   "source": [
    "data_list[0].find('div', 'bl_date light').get_text()"
   ]
  },
  {
   "cell_type": "code",
   "execution_count": 17,
   "metadata": {},
   "outputs": [
    {
     "data": {
      "text/plain": [
       "'18.10.16 ~ 18.11.15'"
      ]
     },
     "execution_count": 17,
     "metadata": {},
     "output_type": "execute_result"
    }
   ],
   "source": [
    "data_list[0].find('div', 'bl_date light').get_text()[5:]"
   ]
  },
  {
   "cell_type": "markdown",
   "metadata": {},
   "source": [
    "#### 청원 참여인원 뽑기"
   ]
  },
  {
   "cell_type": "code",
   "execution_count": 18,
   "metadata": {},
   "outputs": [
    {
     "data": {
      "text/plain": [
       "<div class=\"bl_agree cs\"><span class=\"sound_only\">참여인원 </span>93명</div>"
      ]
     },
     "execution_count": 18,
     "metadata": {},
     "output_type": "execute_result"
    }
   ],
   "source": [
    "data_list[0].find('div', 'bl_agree cs')"
   ]
  },
  {
   "cell_type": "code",
   "execution_count": 19,
   "metadata": {},
   "outputs": [
    {
     "data": {
      "text/plain": [
       "<div class=\"bl_agree cs\"><span class=\"sound_only\">참여인원 </span>15명</div>"
      ]
     },
     "execution_count": 19,
     "metadata": {},
     "output_type": "execute_result"
    }
   ],
   "source": [
    "data_list[1].find('div', 'bl_agree cs')"
   ]
  },
  {
   "cell_type": "code",
   "execution_count": 20,
   "metadata": {},
   "outputs": [
    {
     "data": {
      "text/plain": [
       "'참여인원 93명'"
      ]
     },
     "execution_count": 20,
     "metadata": {},
     "output_type": "execute_result"
    }
   ],
   "source": [
    "data_list[0].find('div', 'bl_agree cs').get_text()"
   ]
  },
  {
   "cell_type": "code",
   "execution_count": 21,
   "metadata": {},
   "outputs": [
    {
     "data": {
      "text/plain": [
       "'93명'"
      ]
     },
     "execution_count": 21,
     "metadata": {},
     "output_type": "execute_result"
    }
   ],
   "source": [
    "data_list[0].find('div', 'bl_agree cs').get_text()[5:13]"
   ]
  },
  {
   "cell_type": "markdown",
   "metadata": {},
   "source": [
    "### 데이터 수집 및 확인"
   ]
  },
  {
   "cell_type": "code",
   "execution_count": 38,
   "metadata": {},
   "outputs": [
    {
     "name": "stdout",
     "output_type": "stream",
     "text": [
      "시작 날짜를 입력하세요.  ex) 181007 \n",
      "181115\n",
      "마지막 날짜를 입력하세요.  ex) 181115 \n",
      "181115\n",
      "==================================================\n",
      "[18.11.15 ~ 18.11.15] 국민청원 데이터를 수집합니다.\n",
      "\n",
      "1 페이지 수집중입니다.... ing     [수집완료]\n",
      "2 페이지 수집중입니다.... ing     [수집완료]\n",
      "3 페이지 수집중입니다.... ing     [수집완료]\n",
      "4 페이지 수집중입니다.... ing     [수집완료]\n",
      "5 페이지 수집중입니다.... ing     [수집완료]\n",
      "==================================================\n",
      "데이터 수집을 완료했습니다.\n",
      "총 계산 시간: 0:00:46.529662\n",
      "총 수집 개수: 47개\n"
     ]
    }
   ],
   "source": [
    "title = []\n",
    "date = []\n",
    "count = []\n",
    "page = 0\n",
    "\n",
    "data1 = []\n",
    "\n",
    "start_flag = False\n",
    "end_flag = False\n",
    "\n",
    "end_date = input(\"시작 날짜를 입력하세요.  ex) 181007 \\n\")\n",
    "start_date = input(\"마지막 날짜를 입력하세요.  ex) 181115 \\n\")\n",
    "end_date = end_date[:2] + '.' + end_date[2:4] + '.' + end_date[4:]\n",
    "start_date = start_date[:2] + '.' + start_date[2:4] + '.' + start_date[4:]\n",
    "\n",
    "print(\"=\" * 50)\n",
    "print(\"[%s ~ %s] 국민청원 데이터를 수집합니다.\\n\" % (end_date, start_date))\n",
    "\n",
    "start = datetime.now()\n",
    "\n",
    "# 가상 드라이버 시작\n",
    "driver_path = \"driver/chromedriver.exe\"\n",
    "driver = webdriver.Chrome(executable_path=driver_path)\n",
    "time.sleep(1)\n",
    "\n",
    "for url in urls:\n",
    "    time.sleep(3)\n",
    "    # url 이동 및 html 소스 수집\n",
    "    driver.get(url)\n",
    "    time.sleep(2)\n",
    "    data = BeautifulSoup(driver.page_source, \"lxml\")\n",
    "    time.sleep(2)\n",
    "    data1.append(data)\n",
    "    \n",
    "#     print(data)\n",
    "    \n",
    "    # 청원 데이터 찾기\n",
    "    data_list = data.find('ul', 'petition_list').find_all('li')\n",
    "#     print(data_list)\n",
    "    \n",
    "    # 데이터 수집 체크\n",
    "    page += 1\n",
    "#     print(page)\n",
    "    \n",
    "    if start_flag:\n",
    "        print(\"%d 페이지 수집중입니다.... ing\" %page, end='')\n",
    "    \n",
    "    for x in range(len(data_list)):\n",
    "        \n",
    "        # 기사 끝날 날짜 체크 (end_flag 변경)\n",
    "        if data_list[x].find('div', 'bl_date light').get_text()[-8:] in end_date:\n",
    "            temp_date = data_list[x].find('div', 'bl_date light').get_text()[-8:]\n",
    "            end_flag = True\n",
    "               \n",
    "\n",
    "        # 기사 끝날 날짜 체크(반복문 out)    \n",
    "        if end_flag:\n",
    "            if not(temp_date == data_list[x].find('div', 'bl_date light').get_text()[-8:]):\n",
    "                break       \n",
    "        \n",
    "        \n",
    "        if not(start_flag):            \n",
    "            # 기사 시작 날짜 체크                                                                      \n",
    "            if not(data_list[x].find('div', 'bl_date light').get_text()[-8:] in start_date):            \n",
    "                continue\n",
    "            print(\"%d 페이지 수집중입니다.... ing\" %page, end='')\n",
    "            start_flag = True        \n",
    "  \n",
    "        \n",
    "        # 청원 제목만 가져오기\n",
    "        title.append(data_list[x].find('a', 'cb relpy_w').get_text()[3:])\n",
    "   \n",
    "        # 청원 날짜만 가져오기\n",
    "        date.append(data_list[x].find('div', 'bl_date light').get_text()[-8:])\n",
    "        \n",
    "        # 청원 참여인원 가져오기\n",
    "        count.append(data_list[x].find('div', 'bl_agree cs').get_text()[5:])\n",
    "    \n",
    "    # 데이터 수집 시작 체크\n",
    "    if not(start_flag):\n",
    "        continue\n",
    "        \n",
    "    # 데이터수집 체크\n",
    "    print(\"     [수집완료]\")       \n",
    "          \n",
    "    \n",
    "    # 기사 끝날 날짜 체크(반복문 out)  \n",
    "    if end_flag:\n",
    "        if not(temp_date == data_list[x].find('div', 'bl_date light').get_text()[-8:]):\n",
    "            break \n",
    "\n",
    "        \n",
    "end = datetime.now()\n",
    "print(\"=\" * 50)\n",
    "print(\"데이터 수집을 완료했습니다.\")\n",
    "elapsed = end - start\n",
    "print('총 계산 시간: ', end='');   print(elapsed)\n",
    "print('총 수집 개수: %d개' %len(title))    "
   ]
  },
  {
   "cell_type": "code",
   "execution_count": 22,
   "metadata": {},
   "outputs": [],
   "source": [
    "data = BeautifulSoup(driver.page_source, \"lxml\")"
   ]
  },
  {
   "cell_type": "code",
   "execution_count": 35,
   "metadata": {},
   "outputs": [
    {
     "data": {
      "text/plain": [
       "'18.07.13'"
      ]
     },
     "execution_count": 35,
     "metadata": {},
     "output_type": "execute_result"
    }
   ],
   "source": [
    "data1[0].find_all(\"div\", \"bl_date light\")[0].text[-8:]"
   ]
  },
  {
   "cell_type": "code",
   "execution_count": 40,
   "metadata": {},
   "outputs": [
    {
     "data": {
      "text/plain": [
       "['9월평양공동 선언 에 대한 국민공청회 를 열어주세요',\n",
       " '남북에철도연결반대한다고역적이라고하는자처벌해주십시요',\n",
       " '혈맹인 미국과의 균열조짐 제발 북한에 신경쓰지 마세요.',\n",
       " '대북재제',\n",
       " '북한편들기  경제파탄 책임 지세요',\n",
       " '◈◈ 국제적인 망신__\"북한핵\" 문제의 당사국인 우리나라가 이상하게 대처하여 동맹국에 까지 항의를 듣다니.......',\n",
       " '대통령의 국정 목표가 대북 퍼주기인가?',\n",
       " '지금처럼 우리나라 대통령이 부끄러웠던 적이 없었다.',\n",
       " '비핵화...왜?  미국인들은 한국을 속국으로 볼까요? 우리는 대한민국입니다',\n",
       " '조명균은 장관직  사퇴하고 헌법에 보장된 언론 자유를 침해한 죄로 검찰의 수사를 촉구한다ㆍ그리고 굴욕적인 모습을  보인 남북회담을 반대한다',\n",
       " '통일',\n",
       " '남북철도 누구 돈으로 하나요?',\n",
       " '조명균통일부장관 파면',\n",
       " '미세먼지 중국에 대한 항의 및 보상 요구해주세요',\n",
       " '장기제대 군인의 대한 공무원 특별 채용을 요청드립니다.',\n",
       " '여자남자 성차별 없이 군대가게 해주세요',\n",
       " '여적죄(與敵罪)란??',\n",
       " '월남참전유공자 전투수당 지급좀 해주십시요',\n",
       " '제발 우리 국민의 자존심좀 세워 주세요.',\n",
       " '北 김정은 눈치 보며 방어용 무기 개발도 막는 정부 제대로 된 나라인가요.',\n",
       " '혼인신고 너무나 쉽다~~ 그러나.......',\n",
       " '전상수당 월 2만3천원 주는 대한민국',\n",
       " '미국과 북한간 동시 협상 타결',\n",
       " '남남갈등을조장하는 탈북민을추방해야합니다.',\n",
       " '김정은위원장 방문시 독도방문 제안',\n",
       " '북한 외교에 국민세금  쓰지마라',\n",
       " '조명균이 문제있어도 해임할 정도는 아니다',\n",
       " '대한민국은 전쟁 나면 나를 지켜줄 것입니까?',\n",
       " '무슬림난민,불체자,조선족추방,국민시민당(가칭)',\n",
       " '본말이 전도된 현 정권의 비핵화 협상!!',\n",
       " '군인정신이 투철한 분의 진급에 대한 소',\n",
       " '2019년 참전명예수당 동결 이라고 합니다.',\n",
       " '통일부 조명균은 당장 사퇴 하라!',\n",
       " '역사 교과서에 후쿠자와 유키치를 포함시켜 주세요.',\n",
       " '이제 월남전투수당을 참전용사들에게 돌려주세요.',\n",
       " '대학생 예비군 훈련 연 1회 폐지하고 , 지역 가입자와 동등하게  예비군 동원훈련 받아야',\n",
       " '미세먼지에 대해서 중국에게 소송을 걸어야 합니다.',\n",
       " '대한민국 병역',\n",
       " '신적폐의 통일부 조명균장관은 북한 앞잡이로 사직하고, 통일부는 폐쇄하라!',\n",
       " \"여권에 '주민등록번호' 표기 없애기 (또는 표기 여부 선택 가능하기)\",\n",
       " '조명균 자진사퇴 하라!!',\n",
       " '‘남북정상간합의’에 대한 국회 비준 동의안 처리는 ‘헌법적 책무’',\n",
       " '문씨에게 묻고싶습니다',\n",
       " '종전선언반대',\n",
       " '북한 비핵화 실제화가 우선 확실히 되면 북한 제재 조치 완화가 되어야 합니다. 한국 국민은 불안합니다. 비핵화 실천 없는 북한을 더이상 도와주지 마세요! 한국 국민들의 경제가 너무 어렵습니다. 제발 한국 국민을 위해 일하는 대통령이 되어주세요!',\n",
       " '유럽 정상들에게 욱일기가 아시아 인류에게 어떠한 상징인지를 알려주세요',\n",
       " '외교부는 독도는 한국땅이라고 세계에 알리는 일좀 하죠']"
      ]
     },
     "execution_count": 40,
     "metadata": {},
     "output_type": "execute_result"
    }
   ],
   "source": [
    "title"
   ]
  },
  {
   "cell_type": "code",
   "execution_count": 18,
   "metadata": {},
   "outputs": [],
   "source": [
    "url = \"https://www1.president.go.kr/petitions/category?c=36&only=2&page=1&order=1\"\n",
    "html = urlopen(url)\n",
    "soup = BeautifulSoup(html, \"lxml\")"
   ]
  },
  {
   "cell_type": "code",
   "execution_count": 19,
   "metadata": {},
   "outputs": [
    {
     "data": {
      "text/plain": [
       "[<a href=\"#cont_view\"><strong>본문으로 바로가기</strong></a>,\n",
       " <a href=\"#sitemap\"><strong>하단메뉴 바로가기</strong></a>,\n",
       " <a href=\"/\" title=\"메인페이지로 이동\"><img alt=\"청와대 로고\" src=\"http://www.president.go.kr/cwdimg/main/logo.png\" style=\"width:100%;\"/></a>,\n",
       " <a href=\"/calendar\">문재인 대통령</a>,\n",
       " <a href=\"/calendar\">공개일정</a>,\n",
       " <a href=\"/president-journey\">걸어온길</a>,\n",
       " <a href=\"/c/president-speeches\">대통령의 말과 글</a>,\n",
       " <a href=\"/c/first-lady-quotations\">김정숙의 말과 글</a>,\n",
       " <a href=\"/live-speeches\">청와대 뉴스룸</a>,\n",
       " <a href=\"/live-speeches\">청와대 온에어</a>,\n",
       " <a href=\"/c/briefings\">청와대 브리핑</a>,\n",
       " <a href=\"/c/oversea-journals\">해외언론보도</a>,\n",
       " <a href=\"/c/blue-house-stories\">청와대 이야기</a>,\n",
       " <a href=\"/TodayShot\">오늘의 한 장</a>,\n",
       " <a href=\"/econo_num\">숫자로 읽는 우리 경제</a>,\n",
       " <a href=\"/history\">청와대 일기</a>,\n",
       " <a href=\"/policies\">정책자료</a>,\n",
       " <a href=\"/policies\">정책현안</a>,\n",
       " <a href=\"http://www.korea.kr/policy/actuallyList.do?pWise=main&amp;pWiseMain=A25\" rel=\"noopener noreferrer\" target=\"_blank\" title=\"정책브리핑 새창열림\">정책브리핑</a>,\n",
       " <a href=\"/government-projects\">국정과제</a>,\n",
       " <a href=\"/GovReport2018\" style=\"line-height:20px;\">2018년 정부부처<br/>업무보고</a>,\n",
       " <a href=\"/c/numerical-government\">숫자로 보는 정책</a>,\n",
       " <a href=\"/event\" rel=\"noopener noreferrer\" target=\"_blank\" title=\"국민소통 광장 새창열림\">국민소통 광장</a>,\n",
       " <a href=\"/event\" rel=\"noopener noreferrer\" target=\"_blank\" title=\"문재인 대통령 1주년 새창열림\">문재인 대통령 1주년</a>,\n",
       " <a href=\"/Amendment\">국민 개헌안</a>,\n",
       " <a href=\"/forums\">토론방</a>,\n",
       " <a href=\"/petitions\">국민청원 및 제안</a>,\n",
       " <a href=\"http://epeople.go.kr\" rel=\"noopener noreferrer\" target=\"_blank\" title=\"국민신문고 새창열림\">국민신문고</a>,\n",
       " <a href=\"http://mybudget.go.kr\" rel=\"noopener noreferrer\" target=\"_blank\" title=\"국민참여예산 새창열림\">국민참여예산</a>,\n",
       " <a href=\"https://www.hrdb.go.kr/OpenRecommend\" rel=\"noopener noreferrer\" target=\"_blank\" title=\"인재추천 새창열림\">인재추천</a>,\n",
       " <a href=\"http://open.pss.go.kr\" rel=\"noopener noreferrer\" target=\"_blank\" title=\"효자동사진관 새창열림\">효자동사진관</a>,\n",
       " <a href=\"/about/roi\">청와대 알림</a>,\n",
       " <a href=\"/about/roi\">정보공개</a>,\n",
       " <a href=\"/recruit/recruitment.php\">청와대 채용</a>,\n",
       " <a href=\"https://dashboard.jobs.go.kr\" rel=\"noopener noreferrer\" target=\"_blank\" title=\"일자리 상황판 새창열림\">일자리 상황판</a>,\n",
       " <a href=\"/about/organization\">청와대 조직도</a>,\n",
       " <a href=\"/budgets\">세입·세출예산 운용상황</a>,\n",
       " <a href=\"/Verification\" style=\"line-height:20px;\">고위공직 예비후보자<br/>사전 질문서</a>,\n",
       " <a href=\"http://pa.go.kr/\" rel=\"noopener noreferrer\" target=\"_blank\" title=\"청와대 기록관 새창열림\">청와대 기록관</a>,\n",
       " <a href=\"/about/location?where=desk\">오시는 길</a>,\n",
       " <a href=\"/tours/about\">청와대 관람 신청</a>,\n",
       " <a href=\"http://english.president.go.kr\" target=\"_blank\" title=\"영문페이지로 새창열림\">\n",
       " <span><img alt=\"\" src=\"http://www.president.go.kr/cwdimg/main/language_icon.gif\"/> English</span>\n",
       " </a>,\n",
       " <a href=\"/\" title=\"메인페이지로 이동\">\n",
       " <h1 class=\"blind\">대한민국 청와대</h1>\n",
       " </a>,\n",
       " <a href=\"/calendar\">공개일정</a>,\n",
       " <a href=\"/president-journey\">걸어온길</a>,\n",
       " <a href=\"/c/president-speeches\">대통령의 말과 글</a>,\n",
       " <a href=\"/c/first-lady-quotations\">김정숙의 말과 글</a>,\n",
       " <a href=\"/live-speeches\">청와대 온에어</a>,\n",
       " <a href=\"/c/briefings\">청와대 브리핑</a>,\n",
       " <a href=\"/c/oversea-journals\">해외언론보도</a>,\n",
       " <a href=\"/c/blue-house-stories\">청와대 이야기</a>,\n",
       " <a href=\"/TodayShot\">오늘의 한 장</a>,\n",
       " <a href=\"/econo_num\">숫자로 읽는 우리 경제</a>,\n",
       " <a href=\"/history\">청와대 일기</a>,\n",
       " <a href=\"/policies\">정책현안</a>,\n",
       " <a href=\"/government-projects\">국정과제</a>,\n",
       " <a href=\"/GovReport2018\" style=\"line-height:20px;\">2018년 정부부처<br/>업무보고</a>,\n",
       " <a href=\"/c/numerical-government\">숫자로 보는 정책</a>,\n",
       " <a href=\"/event\" rel=\"noopener noreferrer\" target=\"_blank\" title=\"문재인 대통령 1주년 새창열림\">문재인 대통령 1주년</a>,\n",
       " <a href=\"/Amendment\">국민 개헌안</a>,\n",
       " <a href=\"/forums\">토론방</a>,\n",
       " <a href=\"/petitions\">국민청원 및 제안</a>,\n",
       " <a href=\"http://epeople.go.kr\" rel=\"noopener noreferrer\" target=\"_blank\" title=\"국민신문고 새창열림\">국민신문고</a>,\n",
       " <a href=\"http://mybudget.go.kr\" rel=\"noopener noreferrer\" target=\"_blank\" title=\"국민참여예산 새창열림\">국민참여예산</a>,\n",
       " <a href=\"https://www.hrdb.go.kr/OpenRecommend\" rel=\"noopener noreferrer\" target=\"_blank\" title=\"인재추천 새창열림\">인재추천</a>,\n",
       " <a href=\"http://open.pss.go.kr\" rel=\"noopener noreferrer\" target=\"_blank\" title=\"효자동사진관 새창열림\">효자동사진관</a>,\n",
       " <a href=\"/about/roi\">정보공개</a>,\n",
       " <a href=\"/recruit/recruitment.php\">청와대 채용</a>,\n",
       " <a href=\"https://dashboard.jobs.go.kr\" rel=\"noopener noreferrer\" target=\"_blank\" title=\"일자리 상황판 새창열림\">일자리 상황판</a>,\n",
       " <a href=\"/about/organization\">청와대 조직도</a>,\n",
       " <a href=\"/budgets\">세입·세출예산 운용상황</a>,\n",
       " <a href=\"/Verification\" style=\"line-height:20px;\">고위공직 예비후보자사전 질문서</a>,\n",
       " <a href=\"http://pa.go.kr/\" rel=\"noopener noreferrer\" target=\"_blank\" title=\"청와대 기록관 새창열림\">청와대 기록관</a>,\n",
       " <a href=\"/about/location?where=desk\">오시는 길</a>,\n",
       " <a href=\"/petitions\">최신순</a>,\n",
       " <a href=\"/petitions?order=best\">추천순</a>,\n",
       " <a class=\"on\" href=\"/petitions/category\">분야별 청원</a>,\n",
       " <a href=\"/petitions/answer\">답변된 청원</a>,\n",
       " <a class=\"ct_btn\" href=\"/petitions/participation\">지금 청원하기</a>,\n",
       " <a class=\"category_link0 active\" href=\"javascript:void(0);\" onclick=\"category_sel(this);\" rel-category=\"0\">전체</a>,\n",
       " <a class=\"category_link35\" href=\"javascript:void(0);\" onclick=\"category_sel(this);\" rel-category=\"35\">정치개혁</a>,\n",
       " <a class=\"category_link36\" href=\"javascript:void(0);\" onclick=\"category_sel(this);\" rel-category=\"36\">외교/통일/국방</a>,\n",
       " <a class=\"category_link37\" href=\"javascript:void(0);\" onclick=\"category_sel(this);\" rel-category=\"37\">일자리</a>,\n",
       " <a class=\"category_link38\" href=\"javascript:void(0);\" onclick=\"category_sel(this);\" rel-category=\"38\">미래</a>,\n",
       " <a class=\"category_link39\" href=\"javascript:void(0);\" onclick=\"category_sel(this);\" rel-category=\"39\">성장동력</a>,\n",
       " <a class=\"category_link40\" href=\"javascript:void(0);\" onclick=\"category_sel(this);\" rel-category=\"40\">농산어촌</a>,\n",
       " <a class=\"category_link41\" href=\"javascript:void(0);\" onclick=\"category_sel(this);\" rel-category=\"41\">보건복지</a>,\n",
       " <a class=\"category_link42\" href=\"javascript:void(0);\" onclick=\"category_sel(this);\" rel-category=\"42\">육아/교육</a>,\n",
       " <a class=\"category_link43\" href=\"javascript:void(0);\" onclick=\"category_sel(this);\" rel-category=\"43\">안전/환경</a>,\n",
       " <a class=\"category_link44\" href=\"javascript:void(0);\" onclick=\"category_sel(this);\" rel-category=\"44\">저출산/고령화대책</a>,\n",
       " <a class=\"category_link45\" href=\"javascript:void(0);\" onclick=\"category_sel(this);\" rel-category=\"45\">행정</a>,\n",
       " <a class=\"category_link46\" href=\"javascript:void(0);\" onclick=\"category_sel(this);\" rel-category=\"46\">반려동물</a>,\n",
       " <a class=\"category_link47\" href=\"javascript:void(0);\" onclick=\"category_sel(this);\" rel-category=\"47\">교통/건축/국토</a>,\n",
       " <a class=\"category_link48\" href=\"javascript:void(0);\" onclick=\"category_sel(this);\" rel-category=\"48\">경제민주화</a>,\n",
       " <a class=\"category_link49\" href=\"javascript:void(0);\" onclick=\"category_sel(this);\" rel-category=\"49\">인권/성평등</a>,\n",
       " <a class=\"category_link50\" href=\"javascript:void(0);\" onclick=\"category_sel(this);\" rel-category=\"50\">문화/예술/체육/언론</a>,\n",
       " <a class=\"category_link51\" href=\"javascript:void(0);\" onclick=\"category_sel(this);\" rel-category=\"51\">기타</a>,\n",
       " <a class=\"category_tab1 active\" href=\"javascript:void(0);\" onclick=\"only_sel(this);\" rel-only=\"1\" title=\"선택됨\">진행 중 청원</a>,\n",
       " <a class=\"category_tab2\" href=\"javascript:void(1);\" onclick=\"only_sel(this);\" rel-only=\"2\">만료된 청원</a>,\n",
       " <a class=\"ct_btn\" href=\"/petitions/participation\">지금 청원하기</a>,\n",
       " <a class=\"blind\" href=\"/calendar\">바로가기</a>,\n",
       " <a href=\"/calendar\">공개일정</a>,\n",
       " <a href=\"/president-journey\">걸어온길</a>,\n",
       " <a href=\"/c/president-speeches\">대통령의 말과 글</a>,\n",
       " <a href=\"/c/first-lady-quotations\">김정숙의 말과 글</a>,\n",
       " <a class=\"blind\" href=\"/live-speeches\">바로가기</a>,\n",
       " <a href=\"/live-speeches\">청와대 온에어</a>,\n",
       " <a href=\"/c/briefings\">청와대 브리핑</a>,\n",
       " <a href=\"/c/oversea-journals\">해외언론보도</a>,\n",
       " <a href=\"/c/blue-house-stories\">청와대 이야기</a>,\n",
       " <a href=\"/TodayShot\">오늘의 한 장</a>,\n",
       " <a href=\"/econo_num\">숫자로 읽는 우리 경제</a>,\n",
       " <a href=\"/history\">청와대 일기</a>,\n",
       " <a class=\"blind\" href=\"/policies\">바로가기</a>,\n",
       " <a href=\"/policies\">정책현안</a>,\n",
       " <a href=\"http://www.korea.kr/policy/actuallyList.do?pWise=main&amp;pWiseMain=A25\" rel=\"noopener noreferrer\" target=\"_blank\" title=\"정책브리핑 새창열림\">정책브리핑</a>,\n",
       " <a href=\"/government-projects\">국정과제</a>,\n",
       " <a href=\"/GovReport2018\">2018년 정부부처 업무보고</a>,\n",
       " <a href=\"/c/numerical-government\">숫자로 보는 정책</a>,\n",
       " <a class=\"blind\" href=\"/event\" rel=\"noopener noreferrer\" target=\"_blank\" title=\"국민소통 광장 새창열림\">바로가기</a>,\n",
       " <a href=\"/event\" rel=\"noopener noreferrer\" target=\"_blank\" title=\"문재인 대통령 1주년 새창열림\">문재인 대통령 1주년</a>,\n",
       " <a href=\"/Amendment\">국민 개헌안</a>,\n",
       " <a href=\"/forums\">토론방</a>,\n",
       " <a href=\"/petitions\">국민청원 및 제안</a>,\n",
       " <a href=\"http://epeople.go.kr\" rel=\"noopener noreferrer\" target=\"_blank\" title=\"국민신문고 새창열림\">국민신문고</a>,\n",
       " <a href=\"http://mybudget.go.kr\" rel=\"noopener noreferrer\" target=\"_blank\" title=\"국민참여예산 새창열림\">국민참여예산</a>,\n",
       " <a href=\"https://www.hrdb.go.kr/OpenRecommend\" rel=\"noopener noreferrer\" target=\"_blank\" title=\"인재추천 새창열림\">인재추천</a>,\n",
       " <a href=\"http://open.pss.go.kr\" rel=\"noopener noreferrer\" target=\"_blank\" title=\"효자동사진관 새창열림\">효자동사진관</a>,\n",
       " <a class=\"blind\" href=\"/about/roi\">바로가기</a>,\n",
       " <a href=\"/about/roi\">정보공개</a>,\n",
       " <a href=\"/recruit/recruitment.php\">청와대 채용</a>,\n",
       " <a href=\"https://dashboard.jobs.go.kr\" rel=\"noopener noreferrer\" target=\"_blank\" title=\"일자리 상황판 새창열림\">일자리 상황판</a>,\n",
       " <a href=\"/about/organization\">청와대 조직도</a>,\n",
       " <a href=\"/budgets\">세입·세출예산 운용상황</a>,\n",
       " <a href=\"/Verification\">고위공직 예비후보자<br/>사전 질문서</a>,\n",
       " <a href=\"http://pa.go.kr/\" rel=\"noopener noreferrer\" target=\"_blank\" title=\"청와대 기록관 새창열림\">청와대 기록관</a>,\n",
       " <a href=\"/about/location?where=desk\">오시는 길</a>,\n",
       " <a href=\"/tours/about\" style=\"font-size:15px; color:#fff; font-weight:bold; margin-top:12px; text-decoration:none;\">청와대 관람신청</a>,\n",
       " <a href=\"https://www.facebook.com/TheBlueHouseKR\" target=\"_blank\"><i class=\"fs_icon facebook\"><span class=\"sound_only\">페이스북 바로가기</span></i><span class=\"blind\">Facebook</span></a>,\n",
       " <a href=\"https://blog.naver.com/thebluehousekr\" target=\"_blank\"><i class=\"fs_icon blog\"><span class=\"sound_only\">블로그 바로가기</span></i><span class=\"blind\">blog</span></a>,\n",
       " <a href=\"https://twitter.com/TheBlueHouseKR\" target=\"_blank\"><i class=\"fs_icon twitter\"><span class=\"sound_only\">트위터 바로가기</span></i><span class=\"blind\">Twitter</span></a>,\n",
       " <a href=\"https://www.instagram.com/thebluehouse_kr/\" target=\"_blank\"><i class=\"fs_icon instagram\"><span class=\"sound_only\">인스타그램 바로가기</span></i><span class=\"blind\">Instagram</span></a>,\n",
       " <a href=\"https://www.youtube.com/TheBlueHouseKR\" target=\"_blank\"><i class=\"fs_icon youtube\"><span class=\"sound_only\">유튜브 바로가기</span></i><span class=\"blind\">Youtube</span></a>,\n",
       " <a href=\"tel:02-730-5800\">(+82) 02-730-5800</a>,\n",
       " <a href=\"mailto:webmaster@president.go.kr\">메일보내기</a>,\n",
       " <a href=\"http://www1.president.go.kr/about/privacy\">개인정보처리방침</a>,\n",
       " <a href=\"http://www1.president.go.kr/about/copyright\">저작권 정책</a>,\n",
       " <a href=\"http://www1.president.go.kr/sitemap\">사이트맵</a>,\n",
       " <a href=\"http://www1.president.go.kr/about/location\">오시는 길</a>,\n",
       " <a href=\"http://www.epeople.go.kr/\" target=\"_blank\" title=\"새창 열림\">www.epeople.go.kr</a>]"
      ]
     },
     "execution_count": 19,
     "metadata": {},
     "output_type": "execute_result"
    }
   ],
   "source": [
    "soup.find_all(\"a\")"
   ]
  },
  {
   "cell_type": "code",
   "execution_count": 8,
   "metadata": {},
   "outputs": [
    {
     "data": {
      "text/plain": [
       "2507"
      ]
     },
     "execution_count": 8,
     "metadata": {},
     "output_type": "execute_result"
    }
   ],
   "source": [
    "len(date)"
   ]
  },
  {
   "cell_type": "code",
   "execution_count": 9,
   "metadata": {},
   "outputs": [
    {
     "data": {
      "text/plain": [
       "2507"
      ]
     },
     "execution_count": 9,
     "metadata": {},
     "output_type": "execute_result"
    }
   ],
   "source": [
    "len(count)"
   ]
  },
  {
   "cell_type": "code",
   "execution_count": 10,
   "metadata": {},
   "outputs": [
    {
     "data": {
      "text/plain": [
       "'조폭의교사살인, 혐의없음. 재조사할것'"
      ]
     },
     "execution_count": 10,
     "metadata": {},
     "output_type": "execute_result"
    }
   ],
   "source": [
    "title[0]"
   ]
  },
  {
   "cell_type": "code",
   "execution_count": 11,
   "metadata": {},
   "outputs": [
    {
     "data": {
      "text/plain": [
       "'18.11.16 ~ 18.12.16'"
      ]
     },
     "execution_count": 11,
     "metadata": {},
     "output_type": "execute_result"
    }
   ],
   "source": [
    "date[0]"
   ]
  },
  {
   "cell_type": "code",
   "execution_count": 12,
   "metadata": {},
   "outputs": [
    {
     "data": {
      "text/plain": [
       "'0명'"
      ]
     },
     "execution_count": 12,
     "metadata": {},
     "output_type": "execute_result"
    }
   ],
   "source": [
    "count[0]"
   ]
  },
  {
   "cell_type": "code",
   "execution_count": 13,
   "metadata": {},
   "outputs": [
    {
     "data": {
      "text/plain": [
       "'지하철, 버스 성형 외과 광고 자제 청원'"
      ]
     },
     "execution_count": 13,
     "metadata": {},
     "output_type": "execute_result"
    }
   ],
   "source": [
    "title[-1]"
   ]
  },
  {
   "cell_type": "code",
   "execution_count": 14,
   "metadata": {},
   "outputs": [
    {
     "data": {
      "text/plain": [
       "'18.10.18 ~ 18.11.17'"
      ]
     },
     "execution_count": 14,
     "metadata": {},
     "output_type": "execute_result"
    }
   ],
   "source": [
    "date[-1]"
   ]
  },
  {
   "cell_type": "code",
   "execution_count": 15,
   "metadata": {},
   "outputs": [
    {
     "data": {
      "text/plain": [
       "'0명'"
      ]
     },
     "execution_count": 15,
     "metadata": {},
     "output_type": "execute_result"
    }
   ],
   "source": [
    "count[-1]"
   ]
  },
  {
   "cell_type": "markdown",
   "metadata": {},
   "source": [
    "### DataFrame 만들기 & 파일로 저장하기"
   ]
  },
  {
   "cell_type": "code",
   "execution_count": 16,
   "metadata": {},
   "outputs": [],
   "source": [
    "df_temp = {'Title' : title, 'Date' : date, 'count' : count}\n",
    "df = pd.DataFrame(df_temp)"
   ]
  },
  {
   "cell_type": "code",
   "execution_count": 17,
   "metadata": {},
   "outputs": [
    {
     "name": "stdout",
     "output_type": "stream",
     "text": [
      "<class 'pandas.core.frame.DataFrame'>\n",
      "RangeIndex: 2507 entries, 0 to 2506\n",
      "Data columns (total 3 columns):\n",
      "Title    2507 non-null object\n",
      "Date     2507 non-null object\n",
      "count    2507 non-null object\n",
      "dtypes: object(3)\n",
      "memory usage: 58.8+ KB\n"
     ]
    }
   ],
   "source": [
    "df.info()"
   ]
  },
  {
   "cell_type": "code",
   "execution_count": 18,
   "metadata": {},
   "outputs": [
    {
     "data": {
      "text/html": [
       "<div>\n",
       "<style scoped>\n",
       "    .dataframe tbody tr th:only-of-type {\n",
       "        vertical-align: middle;\n",
       "    }\n",
       "\n",
       "    .dataframe tbody tr th {\n",
       "        vertical-align: top;\n",
       "    }\n",
       "\n",
       "    .dataframe thead th {\n",
       "        text-align: right;\n",
       "    }\n",
       "</style>\n",
       "<table border=\"1\" class=\"dataframe\">\n",
       "  <thead>\n",
       "    <tr style=\"text-align: right;\">\n",
       "      <th></th>\n",
       "      <th>Title</th>\n",
       "      <th>Date</th>\n",
       "      <th>count</th>\n",
       "    </tr>\n",
       "  </thead>\n",
       "  <tbody>\n",
       "    <tr>\n",
       "      <th>0</th>\n",
       "      <td>조폭의교사살인, 혐의없음. 재조사할것</td>\n",
       "      <td>18.11.16 ~ 18.12.16</td>\n",
       "      <td>0명</td>\n",
       "    </tr>\n",
       "    <tr>\n",
       "      <th>1</th>\n",
       "      <td>남녀 성 갈등을 유발하는 메갈, 워마드, 일베 등 특정 사이트를 불법으로 지정해주세요</td>\n",
       "      <td>18.11.16 ~ 18.12.16</td>\n",
       "      <td>1명</td>\n",
       "    </tr>\n",
       "    <tr>\n",
       "      <th>2</th>\n",
       "      <td>조폭의교사살인, 혐의없음. 재조사할것</td>\n",
       "      <td>18.11.16 ~ 18.12.16</td>\n",
       "      <td>1명</td>\n",
       "    </tr>\n",
       "    <tr>\n",
       "      <th>3</th>\n",
       "      <td>너무 여자들만의 얘기를 들어주니 남자들이 괜한 피해자가 되는 사례가 많이 있네요.</td>\n",
       "      <td>18.11.16 ~ 18.12.16</td>\n",
       "      <td>1명</td>\n",
       "    </tr>\n",
       "    <tr>\n",
       "      <th>4</th>\n",
       "      <td>조폭의교사살인, 혐의없음. 재조사할것</td>\n",
       "      <td>18.11.16 ~ 18.12.16</td>\n",
       "      <td>0명</td>\n",
       "    </tr>\n",
       "  </tbody>\n",
       "</table>\n",
       "</div>"
      ],
      "text/plain": [
       "                                             Title                 Date count\n",
       "0                             조폭의교사살인, 혐의없음. 재조사할것  18.11.16 ~ 18.12.16    0명\n",
       "1  남녀 성 갈등을 유발하는 메갈, 워마드, 일베 등 특정 사이트를 불법으로 지정해주세요  18.11.16 ~ 18.12.16    1명\n",
       "2                             조폭의교사살인, 혐의없음. 재조사할것  18.11.16 ~ 18.12.16    1명\n",
       "3    너무 여자들만의 얘기를 들어주니 남자들이 괜한 피해자가 되는 사례가 많이 있네요.  18.11.16 ~ 18.12.16    1명\n",
       "4                             조폭의교사살인, 혐의없음. 재조사할것  18.11.16 ~ 18.12.16    0명"
      ]
     },
     "execution_count": 18,
     "metadata": {},
     "output_type": "execute_result"
    }
   ],
   "source": [
    "df.head()"
   ]
  },
  {
   "cell_type": "code",
   "execution_count": 19,
   "metadata": {},
   "outputs": [
    {
     "data": {
      "text/html": [
       "<div>\n",
       "<style scoped>\n",
       "    .dataframe tbody tr th:only-of-type {\n",
       "        vertical-align: middle;\n",
       "    }\n",
       "\n",
       "    .dataframe tbody tr th {\n",
       "        vertical-align: top;\n",
       "    }\n",
       "\n",
       "    .dataframe thead th {\n",
       "        text-align: right;\n",
       "    }\n",
       "</style>\n",
       "<table border=\"1\" class=\"dataframe\">\n",
       "  <thead>\n",
       "    <tr style=\"text-align: right;\">\n",
       "      <th></th>\n",
       "      <th>Title</th>\n",
       "      <th>Date</th>\n",
       "      <th>count</th>\n",
       "    </tr>\n",
       "  </thead>\n",
       "  <tbody>\n",
       "    <tr>\n",
       "      <th>2502</th>\n",
       "      <td>서울 몰래카메라 강력한 처벌 내려주세요</td>\n",
       "      <td>18.10.18 ~ 18.11.17</td>\n",
       "      <td>895명</td>\n",
       "    </tr>\n",
       "    <tr>\n",
       "      <th>2503</th>\n",
       "      <td>언제까지 가해자의 인권을 위한 나라입니까?</td>\n",
       "      <td>18.10.18 ~ 18.11.17</td>\n",
       "      <td>64명</td>\n",
       "    </tr>\n",
       "    <tr>\n",
       "      <th>2504</th>\n",
       "      <td>청와대에서 난민 데리고 사세요</td>\n",
       "      <td>18.10.18 ~ 18.11.17</td>\n",
       "      <td>52명</td>\n",
       "    </tr>\n",
       "    <tr>\n",
       "      <th>2505</th>\n",
       "      <td>kbs 스페셜 여성  거리에서 외치다 편 방송중단 시켜주세요</td>\n",
       "      <td>18.10.18 ~ 18.11.17</td>\n",
       "      <td>10명</td>\n",
       "    </tr>\n",
       "    <tr>\n",
       "      <th>2506</th>\n",
       "      <td>지하철, 버스 성형 외과 광고 자제 청원</td>\n",
       "      <td>18.10.18 ~ 18.11.17</td>\n",
       "      <td>0명</td>\n",
       "    </tr>\n",
       "  </tbody>\n",
       "</table>\n",
       "</div>"
      ],
      "text/plain": [
       "                                  Title                 Date count\n",
       "2502              서울 몰래카메라 강력한 처벌 내려주세요  18.10.18 ~ 18.11.17  895명\n",
       "2503            언제까지 가해자의 인권을 위한 나라입니까?  18.10.18 ~ 18.11.17   64명\n",
       "2504                   청와대에서 난민 데리고 사세요  18.10.18 ~ 18.11.17   52명\n",
       "2505  kbs 스페셜 여성  거리에서 외치다 편 방송중단 시켜주세요  18.10.18 ~ 18.11.17   10명\n",
       "2506             지하철, 버스 성형 외과 광고 자제 청원  18.10.18 ~ 18.11.17    0명"
      ]
     },
     "execution_count": 19,
     "metadata": {},
     "output_type": "execute_result"
    }
   ],
   "source": [
    "df.tail()"
   ]
  },
  {
   "cell_type": "code",
   "execution_count": 20,
   "metadata": {},
   "outputs": [
    {
     "name": "stdout",
     "output_type": "stream",
     "text": [
      "TeamMission/president3(18.01.01 - 18.11.16).csv 파일을 생성했습니다.\n"
     ]
    }
   ],
   "source": [
    "df.to_csv('TeamMission/president3(%s - %s).csv' % (end_date, start_date), sep=',', encoding='UTF-8')\n",
    "print('TeamMission/president3(%s - %s).csv 파일을 생성했습니다.' % (end_date, start_date))      "
   ]
  },
  {
   "cell_type": "code",
   "execution_count": null,
   "metadata": {},
   "outputs": [],
   "source": []
  }
 ],
 "metadata": {
  "kernelspec": {
   "display_name": "Python 3",
   "language": "python",
   "name": "python3"
  },
  "language_info": {
   "codemirror_mode": {
    "name": "ipython",
    "version": 3
   },
   "file_extension": ".py",
   "mimetype": "text/x-python",
   "name": "python",
   "nbconvert_exporter": "python",
   "pygments_lexer": "ipython3",
   "version": "3.6.5"
  }
 },
 "nbformat": 4,
 "nbformat_minor": 2
}
